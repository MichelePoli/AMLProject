{
 "cells": [
  {
   "cell_type": "code",
   "execution_count": 3,
   "metadata": {},
   "outputs": [
    {
     "ename": "NameError",
     "evalue": "name 'loss_B2' is not defined",
     "output_type": "error",
     "traceback": [
      "\u001b[1;31m---------------------------------------------------------------------------\u001b[0m",
      "\u001b[1;31mNameError\u001b[0m                                 Traceback (most recent call last)",
      "Cell \u001b[1;32mIn[3], line 14\u001b[0m\n\u001b[0;32m     12\u001b[0m \u001b[38;5;66;03m# Plot Training Loss\u001b[39;00m\n\u001b[0;32m     13\u001b[0m plt\u001b[38;5;241m.\u001b[39mfigure(figsize\u001b[38;5;241m=\u001b[39m(\u001b[38;5;241m12\u001b[39m, \u001b[38;5;241m6\u001b[39m))\n\u001b[1;32m---> 14\u001b[0m plt\u001b[38;5;241m.\u001b[39mplot(\u001b[38;5;28mrange\u001b[39m(\u001b[38;5;241m1\u001b[39m, \u001b[38;5;241m21\u001b[39m), \u001b[43mloss_B2\u001b[49m, marker\u001b[38;5;241m=\u001b[39m\u001b[38;5;124m'\u001b[39m\u001b[38;5;124mo\u001b[39m\u001b[38;5;124m'\u001b[39m, label\u001b[38;5;241m=\u001b[39m\u001b[38;5;124m'\u001b[39m\u001b[38;5;124mTraining Loss B2\u001b[39m\u001b[38;5;124m'\u001b[39m, color\u001b[38;5;241m=\u001b[39m\u001b[38;5;124m'\u001b[39m\u001b[38;5;124morange\u001b[39m\u001b[38;5;124m'\u001b[39m)\n\u001b[0;32m     16\u001b[0m plt\u001b[38;5;241m.\u001b[39mplot(\u001b[38;5;28mrange\u001b[39m(\u001b[38;5;241m1\u001b[39m, \u001b[38;5;241m21\u001b[39m), training_loss_3b_A1, marker\u001b[38;5;241m=\u001b[39m\u001b[38;5;124m'\u001b[39m\u001b[38;5;124mo\u001b[39m\u001b[38;5;124m'\u001b[39m, label\u001b[38;5;241m=\u001b[39m\u001b[38;5;124m'\u001b[39m\u001b[38;5;124mTraining Loss 3b A1\u001b[39m\u001b[38;5;124m'\u001b[39m, color\u001b[38;5;241m=\u001b[39m\u001b[38;5;124m'\u001b[39m\u001b[38;5;124mgreen\u001b[39m\u001b[38;5;124m'\u001b[39m)\n\u001b[0;32m     19\u001b[0m plt\u001b[38;5;241m.\u001b[39mplot(\u001b[38;5;28mrange\u001b[39m(\u001b[38;5;241m1\u001b[39m, \u001b[38;5;241m21\u001b[39m), training_loss_3b_A2, marker\u001b[38;5;241m=\u001b[39m\u001b[38;5;124m'\u001b[39m\u001b[38;5;124mo\u001b[39m\u001b[38;5;124m'\u001b[39m, label\u001b[38;5;241m=\u001b[39m\u001b[38;5;124m'\u001b[39m\u001b[38;5;124mTraining Loss 3b A2\u001b[39m\u001b[38;5;124m'\u001b[39m, color\u001b[38;5;241m=\u001b[39m\u001b[38;5;124m'\u001b[39m\u001b[38;5;124mblue\u001b[39m\u001b[38;5;124m'\u001b[39m)\n",
      "\u001b[1;31mNameError\u001b[0m: name 'loss_B2' is not defined"
     ]
    },
    {
     "data": {
      "text/plain": [
       "<Figure size 1200x600 with 0 Axes>"
      ]
     },
     "metadata": {},
     "output_type": "display_data"
    }
   ],
   "source": [
    "import matplotlib.pyplot as plt\n",
    "import numpy as np\n",
    "\n",
    "# Data from the logs\n",
    "\n",
    "training_loss_B2_1e4 = [1.1859, 0.8449, 0.7475, 0.8629, 0.8282, 0.7927, 0.7525, 0.9969, 0.9055, 0.9223, \n",
    "                 0.7030, 0.8156, 1.0467, 0.6694, 0.7342, 1.4269, 0.7669, 0.7060, 0.5998, 0.8282]\n",
    "validation_miou_B2_1e4 = [0.1216, 0.1451, 0.1500, 0.1324, 0.1282, 0.1333, 0.0951, 0.0991, 0.1403, 0.0938, \n",
    "                   0.0897, 0.0902, 0.1036, 0.1092, 0.0998, 0.0783, 0.1260, 0.1228, 0.1284, 0.1269]\n",
    "\n",
    "training_loss_B8_1e4 =[1.6645, 0.8112, 0.9517, 1.0026, 0.9133, 0.9577, 0.8090, 0.8378, 0.8291, 0.9139, 0.8505, 0.7732, 0.8458, 0.7295, 0.7754, 0.8598, 0.8089, 0.7904, 0.8625, 0.7893]\n",
    "validation_miou_B8_1e4=[0.1013, 0.1465, 0.1659, 0.1398, 0.1533, 0.1553, 0.1059, 0.1080, 0.1001, 0.0942, 0.1149, 0.1193, 0.1364, 0.1543, 0.1584, 0.1462, 0.1535, 0.1296, 0.1193, 0.1231]\n",
    "\n",
    "\n",
    "training_loss_B16_1e3=[0.1627, 0.0617, 0.1058, 0.0985, 0.1669, 0.1824, 0.1861, 0.1093, 0.1116, 0.1132, 0.1390, 0.1527, 0.1643, 0.1595, 0.1421, 0.1882, 0.1693, 0.0720, 0.1909]\n",
    "\n",
    "\n",
    "validation_miou_B16_1e3=[1.0133, 1.0916, 0.9599, 0.9860, 1.1679, 0.8840, 0.9060, 0.9773, 0.9242, 0.8715, 0.8319, 0.9072, 0.9862, 0.8642, 0.9617, 0.9075, 0.7927, 0.8551, 1.0571, 0.8283]\n",
    "\n",
    "\n",
    "# Plot Training Loss\n",
    "plt.figure(figsize=(12, 6))\n",
    "plt.plot(range(1, 21), training_loss_B2_1e4, marker='o', label='Training Loss B2 lr: 1e-4', color='orange')\n",
    "\n",
    "plt.plot(range(1, 21), training_loss_B8_1e4, marker='o', label='Training Loss B8 lr: 1e-4', color='green')\n",
    "\n",
    "\n",
    "plt.plot(range(1, 21), training_loss_B16_1e3, marker='o', label='Training Loss B16 lr: 1e-3', color='blue')\n",
    "\n",
    "\n",
    "plt.plot(range(1, 21), training_loss_3b_A1_A2, marker='o', label='Training Loss 3b A1 + A2', color='red')\n",
    "\n",
    "\n",
    "\n",
    "plt.title('Training Loss Over Epochs')\n",
    "plt.xlabel('Epoch')\n",
    "plt.ylabel('Loss')\n",
    "plt.grid(True)\n",
    "plt.legend()\n",
    "plt.show()\n",
    "\n",
    "# Plot Validation mIoU\n",
    "plt.figure(figsize=(12, 6))\n",
    "plt.plot(range(1, 21), validation_miou_B2_1e4, marker='o', label='Validation mIoU B2 lr: 1e-4', color='orange')\n",
    "\n",
    "plt.plot(range(1, 21), validation_miou_B8_1e4, marker='o', label='Validation mIoU B8 lr: 1e-4', color='green')\n",
    "\n",
    "plt.plot(range(1, 21), validation_miou_B16_1e3, marker='o', label='Validation mIoU B16 lr: 1e-3', color='blue')\n",
    "\n",
    "plt.plot(range(1, 21), validation_miou_3b_A1_A2, marker='o', label='Validation mIoU 3b A1 + A2', color='red')\n",
    "\n",
    "\n",
    "\n",
    "plt.title('Validation mIoU Over Epochs')\n",
    "plt.xlabel('Epoch')\n",
    "plt.ylabel('mIoU')\n",
    "plt.grid(True)\n",
    "plt.legend()\n",
    "plt.show()\n",
    "\n",
    "\n",
    "\n"
   ]
  },
  {
   "cell_type": "code",
   "execution_count": null,
   "metadata": {},
   "outputs": [],
   "source": []
  }
 ],
 "metadata": {
  "kernelspec": {
   "display_name": "Python 3",
   "language": "python",
   "name": "python3"
  },
  "language_info": {
   "codemirror_mode": {
    "name": "ipython",
    "version": 3
   },
   "file_extension": ".py",
   "mimetype": "text/x-python",
   "name": "python",
   "nbconvert_exporter": "python",
   "pygments_lexer": "ipython3",
   "version": "3.10.11"
  }
 },
 "nbformat": 4,
 "nbformat_minor": 2
}
