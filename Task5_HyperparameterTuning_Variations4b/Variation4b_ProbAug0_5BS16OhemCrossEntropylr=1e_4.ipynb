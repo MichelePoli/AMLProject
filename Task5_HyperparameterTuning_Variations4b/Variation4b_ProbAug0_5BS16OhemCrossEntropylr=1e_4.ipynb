{
  "cells": [
    {
      "cell_type": "code",
      "execution_count": null,
      "metadata": {
        "colab": {
          "base_uri": "https://localhost:8080/"
        },
        "id": "RDNiYPiZj2eE",
        "outputId": "f559d976-943d-4e7e-b1ff-1eb08a897457"
      },
      "outputs": [
        {
          "name": "stdout",
          "output_type": "stream",
          "text": [
            "Collecting torchmetrics\n",
            "  Downloading torchmetrics-1.6.1-py3-none-any.whl.metadata (21 kB)\n",
            "Requirement already satisfied: numpy>1.20.0 in /usr/local/lib/python3.11/dist-packages (from torchmetrics) (1.26.4)\n",
            "Requirement already satisfied: packaging>17.1 in /usr/local/lib/python3.11/dist-packages (from torchmetrics) (24.2)\n",
            "Requirement already satisfied: torch>=2.0.0 in /usr/local/lib/python3.11/dist-packages (from torchmetrics) (2.5.1+cu121)\n",
            "Collecting lightning-utilities>=0.8.0 (from torchmetrics)\n",
            "  Downloading lightning_utilities-0.11.9-py3-none-any.whl.metadata (5.2 kB)\n",
            "Requirement already satisfied: setuptools in /usr/local/lib/python3.11/dist-packages (from lightning-utilities>=0.8.0->torchmetrics) (75.1.0)\n",
            "Requirement already satisfied: typing-extensions in /usr/local/lib/python3.11/dist-packages (from lightning-utilities>=0.8.0->torchmetrics) (4.12.2)\n",
            "Requirement already satisfied: filelock in /usr/local/lib/python3.11/dist-packages (from torch>=2.0.0->torchmetrics) (3.16.1)\n",
            "Requirement already satisfied: networkx in /usr/local/lib/python3.11/dist-packages (from torch>=2.0.0->torchmetrics) (3.4.2)\n",
            "Requirement already satisfied: jinja2 in /usr/local/lib/python3.11/dist-packages (from torch>=2.0.0->torchmetrics) (3.1.5)\n",
            "Requirement already satisfied: fsspec in /usr/local/lib/python3.11/dist-packages (from torch>=2.0.0->torchmetrics) (2024.10.0)\n",
            "Requirement already satisfied: nvidia-cuda-nvrtc-cu12==12.1.105 in /usr/local/lib/python3.11/dist-packages (from torch>=2.0.0->torchmetrics) (12.1.105)\n",
            "Requirement already satisfied: nvidia-cuda-runtime-cu12==12.1.105 in /usr/local/lib/python3.11/dist-packages (from torch>=2.0.0->torchmetrics) (12.1.105)\n",
            "Requirement already satisfied: nvidia-cuda-cupti-cu12==12.1.105 in /usr/local/lib/python3.11/dist-packages (from torch>=2.0.0->torchmetrics) (12.1.105)\n",
            "Requirement already satisfied: nvidia-cudnn-cu12==9.1.0.70 in /usr/local/lib/python3.11/dist-packages (from torch>=2.0.0->torchmetrics) (9.1.0.70)\n",
            "Requirement already satisfied: nvidia-cublas-cu12==12.1.3.1 in /usr/local/lib/python3.11/dist-packages (from torch>=2.0.0->torchmetrics) (12.1.3.1)\n",
            "Requirement already satisfied: nvidia-cufft-cu12==11.0.2.54 in /usr/local/lib/python3.11/dist-packages (from torch>=2.0.0->torchmetrics) (11.0.2.54)\n",
            "Requirement already satisfied: nvidia-curand-cu12==10.3.2.106 in /usr/local/lib/python3.11/dist-packages (from torch>=2.0.0->torchmetrics) (10.3.2.106)\n",
            "Requirement already satisfied: nvidia-cusolver-cu12==11.4.5.107 in /usr/local/lib/python3.11/dist-packages (from torch>=2.0.0->torchmetrics) (11.4.5.107)\n",
            "Requirement already satisfied: nvidia-cusparse-cu12==12.1.0.106 in /usr/local/lib/python3.11/dist-packages (from torch>=2.0.0->torchmetrics) (12.1.0.106)\n",
            "Requirement already satisfied: nvidia-nccl-cu12==2.21.5 in /usr/local/lib/python3.11/dist-packages (from torch>=2.0.0->torchmetrics) (2.21.5)\n",
            "Requirement already satisfied: nvidia-nvtx-cu12==12.1.105 in /usr/local/lib/python3.11/dist-packages (from torch>=2.0.0->torchmetrics) (12.1.105)\n",
            "Requirement already satisfied: triton==3.1.0 in /usr/local/lib/python3.11/dist-packages (from torch>=2.0.0->torchmetrics) (3.1.0)\n",
            "Requirement already satisfied: sympy==1.13.1 in /usr/local/lib/python3.11/dist-packages (from torch>=2.0.0->torchmetrics) (1.13.1)\n",
            "Requirement already satisfied: nvidia-nvjitlink-cu12 in /usr/local/lib/python3.11/dist-packages (from nvidia-cusolver-cu12==11.4.5.107->torch>=2.0.0->torchmetrics) (12.6.85)\n",
            "Requirement already satisfied: mpmath<1.4,>=1.1.0 in /usr/local/lib/python3.11/dist-packages (from sympy==1.13.1->torch>=2.0.0->torchmetrics) (1.3.0)\n",
            "Requirement already satisfied: MarkupSafe>=2.0 in /usr/local/lib/python3.11/dist-packages (from jinja2->torch>=2.0.0->torchmetrics) (3.0.2)\n",
            "Downloading torchmetrics-1.6.1-py3-none-any.whl (927 kB)\n",
            "\u001b[2K   \u001b[90m━━━━━━━━━━━━━━━━━━━━━━━━━━━━━━━━━━━━━━━━\u001b[0m \u001b[32m927.3/927.3 kB\u001b[0m \u001b[31m19.3 MB/s\u001b[0m eta \u001b[36m0:00:00\u001b[0m\n",
            "\u001b[?25hDownloading lightning_utilities-0.11.9-py3-none-any.whl (28 kB)\n",
            "Installing collected packages: lightning-utilities, torchmetrics\n",
            "Successfully installed lightning-utilities-0.11.9 torchmetrics-1.6.1\n",
            "Collecting thop\n",
            "  Downloading thop-0.1.1.post2209072238-py3-none-any.whl.metadata (2.7 kB)\n",
            "Requirement already satisfied: torch in /usr/local/lib/python3.11/dist-packages (from thop) (2.5.1+cu121)\n",
            "Requirement already satisfied: filelock in /usr/local/lib/python3.11/dist-packages (from torch->thop) (3.16.1)\n",
            "Requirement already satisfied: typing-extensions>=4.8.0 in /usr/local/lib/python3.11/dist-packages (from torch->thop) (4.12.2)\n",
            "Requirement already satisfied: networkx in /usr/local/lib/python3.11/dist-packages (from torch->thop) (3.4.2)\n",
            "Requirement already satisfied: jinja2 in /usr/local/lib/python3.11/dist-packages (from torch->thop) (3.1.5)\n",
            "Requirement already satisfied: fsspec in /usr/local/lib/python3.11/dist-packages (from torch->thop) (2024.10.0)\n",
            "Requirement already satisfied: nvidia-cuda-nvrtc-cu12==12.1.105 in /usr/local/lib/python3.11/dist-packages (from torch->thop) (12.1.105)\n",
            "Requirement already satisfied: nvidia-cuda-runtime-cu12==12.1.105 in /usr/local/lib/python3.11/dist-packages (from torch->thop) (12.1.105)\n",
            "Requirement already satisfied: nvidia-cuda-cupti-cu12==12.1.105 in /usr/local/lib/python3.11/dist-packages (from torch->thop) (12.1.105)\n",
            "Requirement already satisfied: nvidia-cudnn-cu12==9.1.0.70 in /usr/local/lib/python3.11/dist-packages (from torch->thop) (9.1.0.70)\n",
            "Requirement already satisfied: nvidia-cublas-cu12==12.1.3.1 in /usr/local/lib/python3.11/dist-packages (from torch->thop) (12.1.3.1)\n",
            "Requirement already satisfied: nvidia-cufft-cu12==11.0.2.54 in /usr/local/lib/python3.11/dist-packages (from torch->thop) (11.0.2.54)\n",
            "Requirement already satisfied: nvidia-curand-cu12==10.3.2.106 in /usr/local/lib/python3.11/dist-packages (from torch->thop) (10.3.2.106)\n",
            "Requirement already satisfied: nvidia-cusolver-cu12==11.4.5.107 in /usr/local/lib/python3.11/dist-packages (from torch->thop) (11.4.5.107)\n",
            "Requirement already satisfied: nvidia-cusparse-cu12==12.1.0.106 in /usr/local/lib/python3.11/dist-packages (from torch->thop) (12.1.0.106)\n",
            "Requirement already satisfied: nvidia-nccl-cu12==2.21.5 in /usr/local/lib/python3.11/dist-packages (from torch->thop) (2.21.5)\n",
            "Requirement already satisfied: nvidia-nvtx-cu12==12.1.105 in /usr/local/lib/python3.11/dist-packages (from torch->thop) (12.1.105)\n",
            "Requirement already satisfied: triton==3.1.0 in /usr/local/lib/python3.11/dist-packages (from torch->thop) (3.1.0)\n",
            "Requirement already satisfied: sympy==1.13.1 in /usr/local/lib/python3.11/dist-packages (from torch->thop) (1.13.1)\n",
            "Requirement already satisfied: nvidia-nvjitlink-cu12 in /usr/local/lib/python3.11/dist-packages (from nvidia-cusolver-cu12==11.4.5.107->torch->thop) (12.6.85)\n",
            "Requirement already satisfied: mpmath<1.4,>=1.1.0 in /usr/local/lib/python3.11/dist-packages (from sympy==1.13.1->torch->thop) (1.3.0)\n",
            "Requirement already satisfied: MarkupSafe>=2.0 in /usr/local/lib/python3.11/dist-packages (from jinja2->torch->thop) (3.0.2)\n",
            "Downloading thop-0.1.1.post2209072238-py3-none-any.whl (15 kB)\n",
            "Installing collected packages: thop\n",
            "Successfully installed thop-0.1.1.post2209072238\n",
            "Collecting yacs\n",
            "  Downloading yacs-0.1.8-py3-none-any.whl.metadata (639 bytes)\n",
            "Requirement already satisfied: PyYAML in /usr/local/lib/python3.11/dist-packages (from yacs) (6.0.2)\n",
            "Downloading yacs-0.1.8-py3-none-any.whl (14 kB)\n",
            "Installing collected packages: yacs\n",
            "Successfully installed yacs-0.1.8\n",
            "Collecting kornia\n",
            "  Downloading kornia-0.8.0-py2.py3-none-any.whl.metadata (17 kB)\n",
            "Collecting kornia_rs>=0.1.0 (from kornia)\n",
            "  Downloading kornia_rs-0.1.8-cp311-cp311-manylinux_2_17_x86_64.manylinux2014_x86_64.whl.metadata (10 kB)\n",
            "Requirement already satisfied: packaging in /usr/local/lib/python3.11/dist-packages (from kornia) (24.2)\n",
            "Requirement already satisfied: torch>=1.9.1 in /usr/local/lib/python3.11/dist-packages (from kornia) (2.5.1+cu121)\n",
            "Requirement already satisfied: filelock in /usr/local/lib/python3.11/dist-packages (from torch>=1.9.1->kornia) (3.16.1)\n",
            "Requirement already satisfied: typing-extensions>=4.8.0 in /usr/local/lib/python3.11/dist-packages (from torch>=1.9.1->kornia) (4.12.2)\n",
            "Requirement already satisfied: networkx in /usr/local/lib/python3.11/dist-packages (from torch>=1.9.1->kornia) (3.4.2)\n",
            "Requirement already satisfied: jinja2 in /usr/local/lib/python3.11/dist-packages (from torch>=1.9.1->kornia) (3.1.5)\n",
            "Requirement already satisfied: fsspec in /usr/local/lib/python3.11/dist-packages (from torch>=1.9.1->kornia) (2024.10.0)\n",
            "Requirement already satisfied: nvidia-cuda-nvrtc-cu12==12.1.105 in /usr/local/lib/python3.11/dist-packages (from torch>=1.9.1->kornia) (12.1.105)\n",
            "Requirement already satisfied: nvidia-cuda-runtime-cu12==12.1.105 in /usr/local/lib/python3.11/dist-packages (from torch>=1.9.1->kornia) (12.1.105)\n",
            "Requirement already satisfied: nvidia-cuda-cupti-cu12==12.1.105 in /usr/local/lib/python3.11/dist-packages (from torch>=1.9.1->kornia) (12.1.105)\n",
            "Requirement already satisfied: nvidia-cudnn-cu12==9.1.0.70 in /usr/local/lib/python3.11/dist-packages (from torch>=1.9.1->kornia) (9.1.0.70)\n",
            "Requirement already satisfied: nvidia-cublas-cu12==12.1.3.1 in /usr/local/lib/python3.11/dist-packages (from torch>=1.9.1->kornia) (12.1.3.1)\n",
            "Requirement already satisfied: nvidia-cufft-cu12==11.0.2.54 in /usr/local/lib/python3.11/dist-packages (from torch>=1.9.1->kornia) (11.0.2.54)\n",
            "Requirement already satisfied: nvidia-curand-cu12==10.3.2.106 in /usr/local/lib/python3.11/dist-packages (from torch>=1.9.1->kornia) (10.3.2.106)\n",
            "Requirement already satisfied: nvidia-cusolver-cu12==11.4.5.107 in /usr/local/lib/python3.11/dist-packages (from torch>=1.9.1->kornia) (11.4.5.107)\n",
            "Requirement already satisfied: nvidia-cusparse-cu12==12.1.0.106 in /usr/local/lib/python3.11/dist-packages (from torch>=1.9.1->kornia) (12.1.0.106)\n",
            "Requirement already satisfied: nvidia-nccl-cu12==2.21.5 in /usr/local/lib/python3.11/dist-packages (from torch>=1.9.1->kornia) (2.21.5)\n",
            "Requirement already satisfied: nvidia-nvtx-cu12==12.1.105 in /usr/local/lib/python3.11/dist-packages (from torch>=1.9.1->kornia) (12.1.105)\n",
            "Requirement already satisfied: triton==3.1.0 in /usr/local/lib/python3.11/dist-packages (from torch>=1.9.1->kornia) (3.1.0)\n",
            "Requirement already satisfied: sympy==1.13.1 in /usr/local/lib/python3.11/dist-packages (from torch>=1.9.1->kornia) (1.13.1)\n",
            "Requirement already satisfied: nvidia-nvjitlink-cu12 in /usr/local/lib/python3.11/dist-packages (from nvidia-cusolver-cu12==11.4.5.107->torch>=1.9.1->kornia) (12.6.85)\n",
            "Requirement already satisfied: mpmath<1.4,>=1.1.0 in /usr/local/lib/python3.11/dist-packages (from sympy==1.13.1->torch>=1.9.1->kornia) (1.3.0)\n",
            "Requirement already satisfied: MarkupSafe>=2.0 in /usr/local/lib/python3.11/dist-packages (from jinja2->torch>=1.9.1->kornia) (3.0.2)\n",
            "Downloading kornia-0.8.0-py2.py3-none-any.whl (1.1 MB)\n",
            "\u001b[2K   \u001b[90m━━━━━━━━━━━━━━━━━━━━━━━━━━━━━━━━━━━━━━━━\u001b[0m \u001b[32m1.1/1.1 MB\u001b[0m \u001b[31m21.0 MB/s\u001b[0m eta \u001b[36m0:00:00\u001b[0m\n",
            "\u001b[?25hDownloading kornia_rs-0.1.8-cp311-cp311-manylinux_2_17_x86_64.manylinux2014_x86_64.whl (2.1 MB)\n",
            "\u001b[2K   \u001b[90m━━━━━━━━━━━━━━━━━━━━━━━━━━━━━━━━━━━━━━━━\u001b[0m \u001b[32m2.1/2.1 MB\u001b[0m \u001b[31m67.1 MB/s\u001b[0m eta \u001b[36m0:00:00\u001b[0m\n",
            "\u001b[?25hInstalling collected packages: kornia_rs, kornia\n",
            "Successfully installed kornia-0.8.0 kornia_rs-0.1.8\n"
          ]
        }
      ],
      "source": [
        "!pip install torchmetrics\n",
        "!pip install thop\n",
        "!pip install yacs\n",
        "!pip install kornia"
      ]
    },
    {
      "cell_type": "code",
      "execution_count": 3,
      "metadata": {
        "id": "9Id9h3F1jzIh"
      },
      "outputs": [],
      "source": [
        "#import\n",
        "\n",
        "import zipfile\n",
        "import os\n",
        "import torch\n",
        "import matplotlib.pyplot as plt\n",
        "import numpy as np\n",
        "from torch.utils.data import Dataset, DataLoader\n",
        "from torchvision import transforms\n",
        "from PIL import Image\n",
        "import os\n",
        "from collections import OrderedDict\n",
        "from PIL import Image\n",
        "import matplotlib.pyplot as plt\n",
        "from thop import profile, clever_format\n",
        "\n",
        "import torch.nn as nn\n",
        "import torch.optim as optim\n",
        "\n",
        "from torchmetrics import JaccardIndex\n",
        "import torch.nn.functional as F\n",
        "import random\n",
        "\n",
        "from tqdm import tqdm\n",
        "\n",
        "import time\n",
        "import logging\n",
        "\n"
      ]
    },
    {
      "cell_type": "code",
      "execution_count": null,
      "metadata": {
        "colab": {
          "base_uri": "https://localhost:8080/"
        },
        "id": "_AQAM9O9ieOq",
        "outputId": "a8c34d8a-6ab8-4633-e384-a1239b07726f"
      },
      "outputs": [
        {
          "name": "stdout",
          "output_type": "stream",
          "text": [
            "--2025-01-18 17:28:38--  https://zenodo.org/record/5706578/files/Train.zip\n",
            "Resolving zenodo.org (zenodo.org)... 188.185.43.25, 188.185.45.92, 188.185.48.194, ...\n",
            "Connecting to zenodo.org (zenodo.org)|188.185.43.25|:443... connected.\n",
            "HTTP request sent, awaiting response... 301 MOVED PERMANENTLY\n",
            "Location: /records/5706578/files/Train.zip [following]\n",
            "--2025-01-18 17:28:39--  https://zenodo.org/records/5706578/files/Train.zip\n",
            "Reusing existing connection to zenodo.org:443.\n",
            "HTTP request sent, awaiting response... 200 OK\n",
            "Length: 4021669263 (3.7G) [application/octet-stream]\n",
            "Saving to: ‘Train.zip’\n",
            "\n",
            "Train.zip           100%[===================>]   3.75G  13.3MB/s    in 5m 1s   \n",
            "\n",
            "2025-01-18 17:33:39 (12.8 MB/s) - ‘Train.zip’ saved [4021669263/4021669263]\n",
            "\n",
            "--2025-01-18 17:33:39--  https://zenodo.org/record/5706578/files/Val.zip\n",
            "Resolving zenodo.org (zenodo.org)... 188.185.48.194, 188.185.45.92, 188.185.43.25, ...\n",
            "Connecting to zenodo.org (zenodo.org)|188.185.48.194|:443... connected.\n",
            "HTTP request sent, awaiting response... 301 MOVED PERMANENTLY\n",
            "Location: /records/5706578/files/Val.zip [following]\n",
            "--2025-01-18 17:33:40--  https://zenodo.org/records/5706578/files/Val.zip\n",
            "Reusing existing connection to zenodo.org:443.\n",
            "HTTP request sent, awaiting response... 200 OK\n",
            "Length: 2425958254 (2.3G) [application/octet-stream]\n",
            "Saving to: ‘Val.zip’\n",
            "\n",
            "Val.zip             100%[===================>]   2.26G  19.7MB/s    in 2m 5s   \n",
            "\n",
            "2025-01-18 17:35:45 (18.5 MB/s) - ‘Val.zip’ saved [2425958254/2425958254]\n",
            "\n"
          ]
        }
      ],
      "source": [
        "!wget https://zenodo.org/record/5706578/files/Train.zip\n",
        "!wget https://zenodo.org/record/5706578/files/Val.zip"
      ]
    },
    {
      "cell_type": "code",
      "execution_count": null,
      "metadata": {
        "colab": {
          "base_uri": "https://localhost:8080/"
        },
        "id": "YjxZm9J70AVT",
        "outputId": "3e8c1269-bb65-4b6b-f9f0-83f81764a15e"
      },
      "outputs": [
        {
          "name": "stdout",
          "output_type": "stream",
          "text": [
            "--2025-01-18 17:35:45--  https://zenodo.org/records/14606189/files/PIDNet_S_ImageNet.pth.tar\n",
            "Resolving zenodo.org (zenodo.org)... 188.185.43.25, 188.185.48.194, 188.185.45.92, ...\n",
            "Connecting to zenodo.org (zenodo.org)|188.185.43.25|:443... connected.\n",
            "HTTP request sent, awaiting response... 200 OK\n",
            "Length: 38061375 (36M) [application/octet-stream]\n",
            "Saving to: ‘PIDNet_S_ImageNet.pth.tar’\n",
            "\n",
            "PIDNet_S_ImageNet.p 100%[===================>]  36.30M  11.8MB/s    in 3.1s    \n",
            "\n",
            "2025-01-18 17:35:49 (11.8 MB/s) - ‘PIDNet_S_ImageNet.pth.tar’ saved [38061375/38061375]\n",
            "\n"
          ]
        }
      ],
      "source": [
        "!wget https://zenodo.org/records/14606189/files/PIDNet_S_ImageNet.pth.tar"
      ]
    },
    {
      "cell_type": "code",
      "execution_count": null,
      "metadata": {
        "colab": {
          "base_uri": "https://localhost:8080/"
        },
        "id": "eGZP8ABHifPf",
        "outputId": "2b10a8fe-cbd5-4e7a-9797-0865128779e2"
      },
      "outputs": [
        {
          "name": "stdout",
          "output_type": "stream",
          "text": [
            "Train Directory Contents: ['Train']\n",
            "Val Directory Contents: ['Val']\n"
          ]
        }
      ],
      "source": [
        "# Define file paths\n",
        "train_zip = \"Train.zip\"\n",
        "val_zip = \"Val.zip\"\n",
        "\n",
        "# Extract Train.zip\n",
        "with zipfile.ZipFile(train_zip, 'r') as zip_ref:\n",
        "    zip_ref.extractall(\"Train\")\n",
        "\n",
        "# Extract Val.zip\n",
        "with zipfile.ZipFile(val_zip, 'r') as zip_ref:\n",
        "    zip_ref.extractall(\"Val\")\n",
        "\n",
        "\n",
        "# Verify the extracted folders\n",
        "print(\"Train Directory Contents:\", os.listdir(\"Train\"))\n",
        "print(\"Val Directory Contents:\", os.listdir(\"Val\"))"
      ]
    },
    {
      "cell_type": "code",
      "execution_count": 26,
      "metadata": {
        "id": "p_CFAn8Fig5e"
      },
      "outputs": [],
      "source": [
        "#TASK 3.b\n",
        "\n",
        "COLOR_MAP = {\n",
        "    'Background': 0.00392157,\n",
        "    'Building': 0.00784314,\n",
        "    'Road': 0.01176471,\n",
        "    'Water': 0.01568628,\n",
        "    'Barren': 0.01960784,\n",
        "    'Forest': 0.02352941,\n",
        "    'Agricultural': 0.02745098\n",
        "}\n",
        "\n",
        "LABEL_MAP = OrderedDict(\n",
        "    Background=0,\n",
        "    Building=1,\n",
        "    Road=2,\n",
        "    Water=3,\n",
        "    Barren=4,\n",
        "    Forest=5,\n",
        "    Agricultural=6\n",
        ")\n",
        "\n",
        "# Tolerance-based color to label conversion\n",
        "def color_to_one_hot(mask, label_map, tolerance=0.001, num_classes=7):\n",
        "    mask = np.asarray(mask, dtype=np.float32)\n",
        "    if len(mask.shape) == 2:  # Ensure channel dimension exists\n",
        "        mask = np.expand_dims(mask, axis=0)  # Convert [H, W] to [1, H, W]\n",
        "\n",
        "    one_hot_mask = np.zeros((num_classes, mask.shape[1], mask.shape[2]), dtype=np.float32)\n",
        "\n",
        "    for class_name, class_index in label_map.items():\n",
        "        color_value = COLOR_MAP[class_name]\n",
        "        # Match pixels with the grayscale value within the tolerance\n",
        "        matches = np.abs(mask - color_value) < tolerance\n",
        "        one_hot_mask[class_index, np.squeeze(matches, axis=0)] = 1.0\n",
        "\n",
        "    return torch.from_numpy(one_hot_mask)\n",
        "\n",
        "\n",
        "# Define a function to denormalize the image\n",
        "def denormalize(tensor, mean, std):\n",
        "    \"\"\" Denormalize the tensor back to the [0, 1] range for visualization. \"\"\"\n",
        "    for i in range(len(mean)):\n",
        "        tensor[i] = tensor[i] * std[i] + mean[i]\n",
        "    return tensor\n",
        "\n",
        "def show_image(image_tensor):\n",
        "    \"\"\" Display a transformed image using matplotlib. \"\"\"\n",
        "    image_tensor = image_tensor.cpu()  # Sposta il tensore sulla CPU\n",
        "    image_tensor = denormalize(image_tensor, [0.485, 0.456, 0.406], [0.229, 0.224, 0.225])  # Denormalize the image\n",
        "    image = image_tensor.permute(1, 2, 0).numpy()  # Convert to HxWxC format\n",
        "    plt.imshow(image)\n",
        "    plt.axis('off')  # Hide axes\n",
        "    plt.show()\n",
        "\n",
        "def show_mask(mask_tensor, num_classes=7):\n",
        "    \"\"\" Display the mask using matplotlib. \"\"\"\n",
        "    # Convert the one-hot mask to the label mask (indices of the highest value per pixel)\n",
        "    mask = mask_tensor.squeeze().cpu().numpy()  # Remove the batch dimension and convert to numpy\n",
        "    label_mask = np.argmax(mask, axis=0)  # Get the class index with the highest value for each pixel\n",
        "\n",
        "    plt.imshow(label_mask, cmap='tab20')  # Use a colormap suitable for categorical data\n",
        "    plt.colorbar()  # Optionally add a color bar\n",
        "    plt.axis('off')  # Hide axes\n",
        "    plt.show()\n",
        "\n",
        "\n",
        "import torch\n",
        "import kornia\n",
        "import random\n",
        "import numpy as np\n",
        "\n",
        "def colorJitter(colorJitter_prob, img_mean, data=None, target=None, s=0.25):\n",
        "    \"\"\"\n",
        "    Apply ColorJitter transformation to the image with a given probability.\n",
        "\n",
        "    :param colorJitter_prob: Probability of applying the ColorJitter transformation.\n",
        "    :param img_mean: The mean values for image normalization.\n",
        "    :param data: The input image tensor.\n",
        "    :param target: The target (mask).\n",
        "    :param s: The strength of the ColorJitter transformation.\n",
        "    :return: Transformed image and target.\n",
        "    \"\"\"\n",
        "    if not (data is None) and data.shape[1] == 3:  # Ensure the input data is a 3-channel image\n",
        "        if random.random() < colorJitter_prob:  # Apply ColorJitter based on probability\n",
        "            seq = kornia.augmentation.ColorJitter(brightness=s, contrast=s, saturation=s, hue=s)\n",
        "            img_mean, _ = torch.broadcast_tensors(img_mean.unsqueeze(0).unsqueeze(2).unsqueeze(3), data)\n",
        "            data = (data + img_mean) / 255  # Denormalize the image before applying the transformation\n",
        "            data = seq(data)\n",
        "            data = (data * 255 - img_mean).float()  # Re-normalize the image after transformation\n",
        "    return data, target\n",
        "\n",
        "\n",
        "def gaussian_blur(blur_prob, data=None, target=None):\n",
        "    \"\"\"\n",
        "    Apply Gaussian blur transformation to the image with a given probability.\n",
        "\n",
        "    :param blur_prob: Probability of applying the Gaussian blur.\n",
        "    :param data: The input image tensor.\n",
        "    :param target: The target (mask).\n",
        "    :return: Transformed image and target.\n",
        "    \"\"\"\n",
        "    if not (data is None) and data.shape[1] == 3:  # Ensure the input data is a 3-channel image\n",
        "        if random.random() < blur_prob:  # Apply Gaussian blur based on probability\n",
        "            sigma = np.random.uniform(0.15, 1.15)  # Randomly choose sigma for the blur\n",
        "            kernel_size_y = int(np.floor(np.ceil(0.1 * data.shape[2]) - 0.5 + np.ceil(0.1 * data.shape[2]) % 2))\n",
        "            kernel_size_x = int(np.floor(np.ceil(0.1 * data.shape[3]) - 0.5 + np.ceil(0.1 * data.shape[3]) % 2))\n",
        "            kernel_size = (kernel_size_y, kernel_size_x)\n",
        "            seq = kornia.filters.GaussianBlur2d(kernel_size=kernel_size, sigma=(sigma, sigma))\n",
        "            data = seq(data)\n",
        "    return data, target\n",
        "\n",
        "\n",
        "def strongTransform(parameters, data=None, target=None):\n",
        "    \"\"\"\n",
        "    Apply ColorJitter and GaussianBlur transformations based on parameters.\n",
        "\n",
        "    :param parameters: Dictionary containing transformation probabilities for ColorJitter and GaussianBlur.\n",
        "    :param data: The input image tensor.\n",
        "    :param target: The target (mask).\n",
        "    :return: Transformed image and target.\n",
        "    \"\"\"\n",
        "    assert data is not None or target is not None\n",
        "\n",
        "    # Apply ColorJitter and GaussianBlur transformations based on probabilities\n",
        "    data, target = colorJitter(\n",
        "        colorJitter_prob=parameters[\"ColorJitter\"],  # Probability for ColorJitter\n",
        "        img_mean=torch.from_numpy(IMG_MEAN.copy()).cuda(),\n",
        "        data=data,\n",
        "        target=target,\n",
        "        s=0.25  # Strength of ColorJitter\n",
        "    )\n",
        "\n",
        "    data, target = gaussian_blur(\n",
        "        blur_prob=parameters[\"GaussianBlur\"],  # Probability for GaussianBlur\n",
        "        data=data,\n",
        "        target=target\n",
        "    )\n",
        "\n",
        "    return data, target\n",
        "\n",
        "\n",
        "\n",
        "\n",
        "class LoveDADataset(Dataset):\n",
        "    def __init__(self, root_dir, split='train', transform_image=None, transform_label=None, subdir=\"Rural\", aug1=False, aug2=False):\n",
        "        self.root_dir = root_dir\n",
        "        self.split = split\n",
        "        self.transform_image = transform_image\n",
        "        self.transform_label = transform_label\n",
        "        self.aug1 = aug1\n",
        "        self.aug2 = aug2\n",
        "        self.image_paths = []\n",
        "        self.label_paths = []\n",
        "\n",
        "        image_dir = os.path.join(root_dir, split, subdir, 'images_png')\n",
        "        label_dir = os.path.join(root_dir, split, subdir, 'masks_png')\n",
        "\n",
        "        for f in os.listdir(image_dir):\n",
        "            if f.endswith('.png'):\n",
        "                self.image_paths.append(os.path.join(image_dir, f))\n",
        "                self.label_paths.append(os.path.join(label_dir, f))\n",
        "\n",
        "    def __len__(self):\n",
        "        original_length = len(self.image_paths)\n",
        "        if self.aug1 and self.aug2:\n",
        "            return original_length * 2\n",
        "        elif self.aug1 or self.aug2:\n",
        "            return int(original_length * 1.5)\n",
        "        else:\n",
        "            return original_length\n",
        "\n",
        "\n",
        "    def __getitem__(self, idx):\n",
        "        original_length = len(self.image_paths)\n",
        "\n",
        "        # Calcola l'indice originale nel dataset\n",
        "        idx = idx % original_length\n",
        "\n",
        "        aug_1 = False\n",
        "        aug_2 = False\n",
        "        if(idx < original_length):\n",
        "            aug_1 = False\n",
        "            aug_2 = False\n",
        "\n",
        "        elif(idx >= original_length):\n",
        "            if(random.random() < 0.5):\n",
        "                if(self.aug1):\n",
        "                    aug_1 = True\n",
        "                    aug_2 = False\n",
        "                elif(self.aug2):\n",
        "                    aug_1 = False\n",
        "                    aug_2 = True\n",
        "\n",
        "            else:\n",
        "                if (self.aug2):\n",
        "                    aug_1 = False\n",
        "                    aug_2 = True\n",
        "                elif(self.aug1):\n",
        "                    aug_1 = True\n",
        "                    aug_2 = False\n",
        "\n",
        "\n",
        "\n",
        "        # Carica l'immagine e la maschera\n",
        "        image = Image.open(self.image_paths[idx]).convert(\"RGB\")\n",
        "        label = Image.open(self.label_paths[idx]).convert(\"L\")\n",
        "\n",
        "        image_np = np.array(image)\n",
        "        label_np = np.array(label)\n",
        "\n",
        "        # Seed per garantire coerenza tra immagine e maschera\n",
        "        seed = np.random.randint(2147483647)\n",
        "\n",
        "        # Applica augmentazione se abilitata\n",
        "        if self.aug1 and aug_1:\n",
        "            torch.manual_seed(seed)\n",
        "            torch.cuda.manual_seed(seed)\n",
        "            transform_aug1 = transforms.Compose([\n",
        "                transforms.RandomHorizontalFlip(p=0.5),\n",
        "                transforms.RandomVerticalFlip(p=0.5),\n",
        "                transforms.RandomRotation(30)\n",
        "            ])\n",
        "            image = Image.fromarray(image_np)\n",
        "            image = transform_aug1(image)\n",
        "            image_np = np.array(image)\n",
        "\n",
        "            torch.manual_seed(seed)\n",
        "            torch.cuda.manual_seed(seed)\n",
        "            label = Image.fromarray(label_np)\n",
        "            label = transform_aug1(label)\n",
        "            label_np = np.array(label)\n",
        "\n",
        "        if self.aug2 and aug_2:\n",
        "            torch.manual_seed(seed)\n",
        "            torch.cuda.manual_seed(seed)\n",
        "\n",
        "            # Set up augmentation probabilities\n",
        "            strong_parameters = {\n",
        "                \"ColorJitter\": 0.5,  # Set ColorJitter probability\n",
        "                \"GaussianBlur\": 0.5  # Set GaussianBlur probability\n",
        "            }\n",
        "\n",
        "\n",
        "            image = Image.fromarray(image_np)\n",
        "            image, _ = strongTransform(strong_parameters, image, None)\n",
        "            image_np = np.array(image)\n",
        "\n",
        "            torch.manual_seed(seed)\n",
        "            torch.cuda.manual_seed(seed)\n",
        "            label = Image.fromarray(label_np)\n",
        "            # label = transform_aug2(label)\n",
        "            label_np = np.array(label)\n",
        "\n",
        "        # Trasformazioni opzionali per immagine e maschera\n",
        "        if self.transform_image:\n",
        "            transform_image_alb = transforms.Compose([\n",
        "                transforms.Resize((512, 512)),\n",
        "                transforms.ToTensor(),\n",
        "                transforms.Normalize(mean=[0.485, 0.456, 0.406], std=[0.229, 0.224, 0.225]),\n",
        "            ])\n",
        "            image = Image.fromarray(image_np)\n",
        "            image = transform_image_alb(image)\n",
        "\n",
        "        if self.transform_label:\n",
        "            transform_label_alb = transforms.Compose([\n",
        "                transforms.Resize((512, 512)),\n",
        "                transforms.ToTensor()\n",
        "            ])\n",
        "            label = Image.fromarray(label_np)\n",
        "            label = transform_label_alb(label).squeeze(0)\n",
        "            label = color_to_one_hot(label, LABEL_MAP)\n",
        "\n",
        "        return image,label\n",
        "\n",
        "# Define transformations without augmentations\n",
        "transform_image = transforms.Compose([\n",
        "    transforms.Resize((512, 512)),\n",
        "    transforms.ToTensor(),\n",
        "    transforms.Normalize(mean=[0.485, 0.456, 0.406], std=[0.229, 0.224, 0.225]),\n",
        "\n",
        "])\n",
        "\n",
        "transform_label = transforms.Compose([\n",
        "    transforms.Resize((512, 512)),\n",
        "    transforms.ToTensor()\n",
        "])\n",
        "\n",
        "# Set augmentation flags\n",
        "AUG1 = True\n",
        "AUG2 = True\n",
        "\n",
        "BATCH_SIZE = 16 #or 32, or 64 ...\n",
        "NUM_WORKERS = 2 # Number of cpu cores\n",
        "PIN_MEMORY = True\n",
        "PERSISTENT_WORKERS = False # Set true if you have persistent workers issues\n"
      ]
    },
    {
      "cell_type": "code",
      "execution_count": null,
      "metadata": {
        "colab": {
          "base_uri": "https://localhost:8080/"
        },
        "id": "5DUTFu81y7PO",
        "outputId": "19acda84-8429-48a2-a147-5ee82f8e01a2"
      },
      "outputs": [
        {
          "name": "stdout",
          "output_type": "stream",
          "text": [
            "Cloning into 'PIDNet'...\n",
            "remote: Enumerating objects: 386, done.\u001b[K\n",
            "remote: Counting objects: 100% (193/193), done.\u001b[K\n",
            "remote: Compressing objects: 100% (68/68), done.\u001b[K\n",
            "remote: Total 386 (delta 131), reused 125 (delta 125), pack-reused 193 (from 1)\u001b[K\n",
            "Receiving objects: 100% (386/386), 212.80 MiB | 35.62 MiB/s, done.\n",
            "Resolving deltas: 100% (184/184), done.\n",
            "[Errno 2] No such file or directory: 'content'\n",
            "/content\n"
          ]
        }
      ],
      "source": [
        "!git clone https://github.com/XuJiacong/PIDNet.git\n",
        "%cd content"
      ]
    },
    {
      "cell_type": "code",
      "execution_count": 27,
      "metadata": {
        "id": "g-Lia_DZS6_k"
      },
      "outputs": [],
      "source": [
        "import sys\n",
        "sys.path.append('/content/PIDNet')"
      ]
    },
    {
      "cell_type": "code",
      "execution_count": 28,
      "metadata": {
        "colab": {
          "base_uri": "https://localhost:8080/"
        },
        "id": "4PQ5Ioe3yt3P",
        "outputId": "b43ec278-8df6-4a07-c12a-fb1a51b6e11d"
      },
      "outputs": [
        {
          "name": "stderr",
          "output_type": "stream",
          "text": [
            "<ipython-input-28-34d80a4c5901>:189: FutureWarning: You are using `torch.load` with `weights_only=False` (the current default value), which uses the default pickle module implicitly. It is possible to construct malicious pickle data which will execute arbitrary code during unpickling (See https://github.com/pytorch/pytorch/blob/main/SECURITY.md#untrusted-models for more details). In a future release, the default value for `weights_only` will be flipped to `True`. This limits the functions that could be executed during unpickling. Arbitrary objects will no longer be allowed to be loaded via this mode unless they are explicitly allowlisted by the user via `torch.serialization.add_safe_globals`. We recommend you start setting `weights_only=True` for any use case where you don't have full control of the loaded file. Please open an issue on GitHub for any issues related to this experimental feature.\n",
            "  pretrained_state = torch.load(model_pth, map_location='cpu')['state_dict']\n"
          ]
        }
      ],
      "source": [
        "from models.model_utils import BasicBlock, Bottleneck, segmenthead, DAPPM, PAPPM, PagFM, Bag, Light_Bag\n",
        "\n",
        "BatchNorm2d = nn.BatchNorm2d\n",
        "bn_mom = 0.1\n",
        "algc = False\n",
        "\n",
        "class PIDNet(nn.Module):\n",
        "\n",
        "    def __init__(self, m=2, n=3, num_classes=19, planes=64, ppm_planes=96, head_planes=128, augment=True):\n",
        "        super(PIDNet, self).__init__()\n",
        "        self.augment = augment\n",
        "\n",
        "        # I Branch\n",
        "        self.conv1 =  nn.Sequential(\n",
        "                          nn.Conv2d(3,planes,kernel_size=3, stride=2, padding=1),\n",
        "                          BatchNorm2d(planes, momentum=bn_mom),\n",
        "                          nn.ReLU(inplace=True),\n",
        "                          nn.Conv2d(planes,planes,kernel_size=3, stride=2, padding=1),\n",
        "                          BatchNorm2d(planes, momentum=bn_mom),\n",
        "                          nn.ReLU(inplace=True),\n",
        "                      )\n",
        "\n",
        "        self.relu = nn.ReLU(inplace=True)\n",
        "        self.layer1 = self._make_layer(BasicBlock, planes, planes, m)\n",
        "        self.layer2 = self._make_layer(BasicBlock, planes, planes * 2, m, stride=2)\n",
        "        self.layer3 = self._make_layer(BasicBlock, planes * 2, planes * 4, n, stride=2)\n",
        "        self.layer4 = self._make_layer(BasicBlock, planes * 4, planes * 8, n, stride=2)\n",
        "        self.layer5 =  self._make_layer(Bottleneck, planes * 8, planes * 8, 2, stride=2)\n",
        "\n",
        "        # P Branch\n",
        "        self.compression3 = nn.Sequential(\n",
        "                                          nn.Conv2d(planes * 4, planes * 2, kernel_size=1, bias=False),\n",
        "                                          BatchNorm2d(planes * 2, momentum=bn_mom),\n",
        "                                          )\n",
        "\n",
        "        self.compression4 = nn.Sequential(\n",
        "                                          nn.Conv2d(planes * 8, planes * 2, kernel_size=1, bias=False),\n",
        "                                          BatchNorm2d(planes * 2, momentum=bn_mom),\n",
        "                                          )\n",
        "        self.pag3 = PagFM(planes * 2, planes)\n",
        "        self.pag4 = PagFM(planes * 2, planes)\n",
        "\n",
        "        self.layer3_ = self._make_layer(BasicBlock, planes * 2, planes * 2, m)\n",
        "        self.layer4_ = self._make_layer(BasicBlock, planes * 2, planes * 2, m)\n",
        "        self.layer5_ = self._make_layer(Bottleneck, planes * 2, planes * 2, 1)\n",
        "\n",
        "        # D Branch\n",
        "        if m == 2:\n",
        "            self.layer3_d = self._make_single_layer(BasicBlock, planes * 2, planes)\n",
        "            self.layer4_d = self._make_layer(Bottleneck, planes, planes, 1)\n",
        "            self.diff3 = nn.Sequential(\n",
        "                                        nn.Conv2d(planes * 4, planes, kernel_size=3, padding=1, bias=False),\n",
        "                                        BatchNorm2d(planes, momentum=bn_mom),\n",
        "                                        )\n",
        "            self.diff4 = nn.Sequential(\n",
        "                                     nn.Conv2d(planes * 8, planes * 2, kernel_size=3, padding=1, bias=False),\n",
        "                                     BatchNorm2d(planes * 2, momentum=bn_mom),\n",
        "                                     )\n",
        "            self.spp = PAPPM(planes * 16, ppm_planes, planes * 4)\n",
        "            self.dfm = Light_Bag(planes * 4, planes * 4)\n",
        "        else:\n",
        "            self.layer3_d = self._make_single_layer(BasicBlock, planes * 2, planes * 2)\n",
        "            self.layer4_d = self._make_single_layer(BasicBlock, planes * 2, planes * 2)\n",
        "            self.diff3 = nn.Sequential(\n",
        "                                        nn.Conv2d(planes * 4, planes * 2, kernel_size=3, padding=1, bias=False),\n",
        "                                        BatchNorm2d(planes * 2, momentum=bn_mom),\n",
        "                                        )\n",
        "            self.diff4 = nn.Sequential(\n",
        "                                     nn.Conv2d(planes * 8, planes * 2, kernel_size=3, padding=1, bias=False),\n",
        "                                     BatchNorm2d(planes * 2, momentum=bn_mom),\n",
        "                                     )\n",
        "            self.spp = DAPPM(planes * 16, ppm_planes, planes * 4)\n",
        "            self.dfm = Bag(planes * 4, planes * 4)\n",
        "\n",
        "        self.layer5_d = self._make_layer(Bottleneck, planes * 2, planes * 2, 1)\n",
        "\n",
        "        # Prediction Head\n",
        "        if self.augment:\n",
        "            self.seghead_p = segmenthead(planes * 2, head_planes, num_classes)\n",
        "            self.seghead_d = segmenthead(planes * 2, planes, 1)\n",
        "\n",
        "        self.final_layer = segmenthead(planes * 4, head_planes, num_classes)\n",
        "\n",
        "\n",
        "        for m in self.modules():\n",
        "            if isinstance(m, nn.Conv2d):\n",
        "                nn.init.kaiming_normal_(m.weight, mode='fan_out', nonlinearity='relu')\n",
        "            elif isinstance(m, BatchNorm2d):\n",
        "                nn.init.constant_(m.weight, 1)\n",
        "                nn.init.constant_(m.bias, 0)\n",
        "\n",
        "\n",
        "    def _make_layer(self, block, inplanes, planes, blocks, stride=1):\n",
        "        downsample = None\n",
        "        if stride != 1 or inplanes != planes * block.expansion:\n",
        "            downsample = nn.Sequential(\n",
        "                nn.Conv2d(inplanes, planes * block.expansion,\n",
        "                          kernel_size=1, stride=stride, bias=False),\n",
        "                nn.BatchNorm2d(planes * block.expansion, momentum=bn_mom),\n",
        "            )\n",
        "\n",
        "        layers = []\n",
        "        layers.append(block(inplanes, planes, stride, downsample))\n",
        "        inplanes = planes * block.expansion\n",
        "        for i in range(1, blocks):\n",
        "            if i == (blocks-1):\n",
        "                layers.append(block(inplanes, planes, stride=1, no_relu=True))\n",
        "            else:\n",
        "                layers.append(block(inplanes, planes, stride=1, no_relu=False))\n",
        "\n",
        "        return nn.Sequential(*layers)\n",
        "\n",
        "    def _make_single_layer(self, block, inplanes, planes, stride=1):\n",
        "        downsample = None\n",
        "        if stride != 1 or inplanes != planes * block.expansion:\n",
        "            downsample = nn.Sequential(\n",
        "                nn.Conv2d(inplanes, planes * block.expansion,\n",
        "                          kernel_size=1, stride=stride, bias=False),\n",
        "                nn.BatchNorm2d(planes * block.expansion, momentum=bn_mom),\n",
        "            )\n",
        "\n",
        "        layer = block(inplanes, planes, stride, downsample, no_relu=True)\n",
        "\n",
        "        return layer\n",
        "\n",
        "    def forward(self, x):\n",
        "        #print(x.shape[-1]) #512\n",
        "        #print(x.shape[-2])\n",
        "        width_output = x.shape[-1] // 8\n",
        "        height_output = x.shape[-2] // 8\n",
        "\n",
        "        x = self.conv1(x)\n",
        "        x = self.layer1(x)\n",
        "        x = self.relu(self.layer2(self.relu(x)))\n",
        "        x_ = self.layer3_(x)\n",
        "        x_d = self.layer3_d(x)\n",
        "\n",
        "        x = self.relu(self.layer3(x))\n",
        "        x_ = self.pag3(x_, self.compression3(x))\n",
        "        x_d = x_d + F.interpolate(\n",
        "                        self.diff3(x),\n",
        "                        size=[height_output, width_output],\n",
        "                        mode='bilinear', align_corners=algc)\n",
        "        if self.augment:\n",
        "            temp_p = x_\n",
        "\n",
        "        x = self.relu(self.layer4(x))\n",
        "        x_ = self.layer4_(self.relu(x_))\n",
        "        x_d = self.layer4_d(self.relu(x_d))\n",
        "\n",
        "        x_ = self.pag4(x_, self.compression4(x))\n",
        "        x_d = x_d + F.interpolate(\n",
        "                        self.diff4(x),\n",
        "                        size=[height_output, width_output],\n",
        "                        mode='bilinear', align_corners=algc)\n",
        "        if self.augment:\n",
        "            temp_d = x_d\n",
        "\n",
        "        x_ = self.layer5_(self.relu(x_))\n",
        "        x_d = self.layer5_d(self.relu(x_d))\n",
        "        x = F.interpolate(\n",
        "                        self.spp(self.layer5(x)),\n",
        "                        size=[height_output, width_output],\n",
        "                        mode='bilinear', align_corners=algc)\n",
        "\n",
        "        x_ = self.final_layer(self.dfm(x_, x, x_d))\n",
        "\n",
        "        if self.augment:\n",
        "            x_extra_p = self.seghead_p(temp_p)\n",
        "            x_extra_d = self.seghead_d(temp_d)\n",
        "            return [x_extra_p, x_, x_extra_d]\n",
        "        else:\n",
        "            return x_\n",
        "\n",
        "\n",
        "def get_seg_model(name, num_classes, imgnet_pretrained, model_pth):\n",
        "\n",
        "    if 's' in name:\n",
        "        model = PIDNet(m=2, n=3, num_classes=num_classes, planes=32, ppm_planes=96, head_planes=128, augment=True)\n",
        "    elif 'm' in name:\n",
        "        model = PIDNet(m=2, n=3, num_classes=num_classes, planes=64, ppm_planes=96, head_planes=128, augment=True)\n",
        "    else:\n",
        "        model = PIDNet(m=3, n=4, num_classes=num_classes, planes=64, ppm_planes=112, head_planes=256, augment=True)\n",
        "\n",
        "\n",
        "\n",
        "    if imgnet_pretrained:\n",
        "\n",
        "        pretrained_state = torch.load(model_pth, map_location='cpu')['state_dict']\n",
        "        model_dict = model.state_dict()\n",
        "        pretrained_state = {k: v for k, v in pretrained_state.items() if (k in model_dict and v.shape == model_dict[k].shape)}\n",
        "        model_dict.update(pretrained_state)\n",
        "\n",
        "        msg = 'Loaded {} parameters!'.format(len(pretrained_state))\n",
        "\n",
        "        model.load_state_dict(model_dict, strict = False)\n",
        "\n",
        "    else:\n",
        "        # print(\"vamos\")\n",
        "\n",
        "        pretrained_dict = torch.load(model_pth, map_location='cpu')\n",
        "        if 'state_dict' in pretrained_dict:\n",
        "            pretrained_dict = pretrained_dict['state_dict']\n",
        "        model_dict = model.state_dict()\n",
        "        pretrained_dict = {k[6:]: v for k, v in pretrained_dict.items() if (k[6:] in model_dict and v.shape == model_dict[k[6:]].shape)}\n",
        "        msg = 'Loaded {} parameters!'.format(len(pretrained_dict))\n",
        "        logging.info('Attention!!!')\n",
        "        logging.info(msg)\n",
        "        logging.info('Over!!!')\n",
        "        model_dict.update(pretrained_dict)\n",
        "        model.load_state_dict(model_dict, strict = False)\n",
        "\n",
        "    return model\n",
        "\n",
        "device = torch.device(\"cuda\" if torch.cuda.is_available() else \"cpu\")\n",
        "model = get_seg_model(name='pidnet_s', num_classes=7, imgnet_pretrained=True, model_pth='PIDNet_S_ImageNet.pth.tar').to(device)\n",
        "\n",
        "\n"
      ]
    },
    {
      "cell_type": "code",
      "execution_count": 29,
      "metadata": {
        "colab": {
          "base_uri": "https://localhost:8080/"
        },
        "id": "Xmr4SlruwpAN",
        "outputId": "4c0a8c83-2fb3-4e00-dbf6-717162e467cb"
      },
      "outputs": [
        {
          "name": "stdout",
          "output_type": "stream",
          "text": [
            "cuda\n"
          ]
        }
      ],
      "source": [
        "#device=\"cpu\"\n",
        "print(device)\n"
      ]
    },
    {
      "cell_type": "code",
      "execution_count": 30,
      "metadata": {
        "id": "sQ20FZDKNaGc"
      },
      "outputs": [],
      "source": [
        "from IPython.display import Javascript\n",
        "\n",
        "# Simula uno scorrimento della pagina verso il basso\n",
        "def scroll_page():\n",
        "    display(Javascript('window.scrollTo(0, document.body.scrollHeight);'))"
      ]
    },
    {
      "cell_type": "code",
      "execution_count": 31,
      "metadata": {
        "colab": {
          "base_uri": "https://localhost:8080/",
          "height": 1000
        },
        "id": "-vloYGWlwZmE",
        "outputId": "74cfb85e-086a-47f3-939c-0616a2f1e764"
      },
      "outputs": [
        {
          "name": "stderr",
          "output_type": "stream",
          "text": [
            "<ipython-input-28-34d80a4c5901>:189: FutureWarning: You are using `torch.load` with `weights_only=False` (the current default value), which uses the default pickle module implicitly. It is possible to construct malicious pickle data which will execute arbitrary code during unpickling (See https://github.com/pytorch/pytorch/blob/main/SECURITY.md#untrusted-models for more details). In a future release, the default value for `weights_only` will be flipped to `True`. This limits the functions that could be executed during unpickling. Arbitrary objects will no longer be allowed to be loaded via this mode unless they are explicitly allowlisted by the user via `torch.serialization.add_safe_globals`. We recommend you start setting `weights_only=True` for any use case where you don't have full control of the loaded file. Please open an issue on GitHub for any issues related to this experimental feature.\n",
            "  pretrained_state = torch.load(model_pth, map_location='cpu')['state_dict']\n"
          ]
        },
        {
          "data": {
            "application/javascript": "window.scrollTo(0, document.body.scrollHeight);",
            "text/plain": [
              "<IPython.core.display.Javascript object>"
            ]
          },
          "metadata": {},
          "output_type": "display_data"
        },
        {
          "name": "stderr",
          "output_type": "stream",
          "text": [
            "Epoch 1/20: 100%|██████████| 62/62 [03:09<00:00,  3.06s/batch]\n"
          ]
        },
        {
          "name": "stdout",
          "output_type": "stream",
          "text": [
            "Epoch [1/20] - Loss: 2.1700\n"
          ]
        },
        {
          "name": "stderr",
          "output_type": "stream",
          "text": [
            "Validating Epoch 1/20: 100%|██████████| 62/62 [01:43<00:00,  1.67s/batch]\n"
          ]
        },
        {
          "name": "stdout",
          "output_type": "stream",
          "text": [
            "Epoch [1/20] - Validation mIoU: 0.0965\n",
            "Epoch [1/20] - Per-Class IoU: {'Background': 0.19800031185150146, 'Building': 0.13317200541496277, 'Road': 0.10777954012155533, 'Water': 0.0749477669596672, 'Barren': 0.039112016558647156, 'Forest': 0.06771975755691528, 'Agricultural': 0.054549671709537506}\n"
          ]
        },
        {
          "data": {
            "application/javascript": "window.scrollTo(0, document.body.scrollHeight);",
            "text/plain": [
              "<IPython.core.display.Javascript object>"
            ]
          },
          "metadata": {},
          "output_type": "display_data"
        },
        {
          "name": "stderr",
          "output_type": "stream",
          "text": [
            "Epoch 2/20: 100%|██████████| 62/62 [03:04<00:00,  2.98s/batch]\n"
          ]
        },
        {
          "name": "stdout",
          "output_type": "stream",
          "text": [
            "Epoch [2/20] - Loss: 1.0181\n"
          ]
        },
        {
          "name": "stderr",
          "output_type": "stream",
          "text": [
            "Validating Epoch 2/20: 100%|██████████| 62/62 [01:28<00:00,  1.43s/batch]\n"
          ]
        },
        {
          "name": "stdout",
          "output_type": "stream",
          "text": [
            "Epoch [2/20] - Validation mIoU: 0.1477\n",
            "Epoch [2/20] - Per-Class IoU: {'Background': 0.3917771279811859, 'Building': 0.23059001564979553, 'Road': 0.12817835807800293, 'Water': 0.1093101054430008, 'Barren': 0.03596298024058342, 'Forest': 0.1372719705104828, 'Agricultural': 0.0004736688861157745}\n"
          ]
        },
        {
          "data": {
            "application/javascript": "window.scrollTo(0, document.body.scrollHeight);",
            "text/plain": [
              "<IPython.core.display.Javascript object>"
            ]
          },
          "metadata": {},
          "output_type": "display_data"
        },
        {
          "name": "stderr",
          "output_type": "stream",
          "text": [
            "Epoch 3/20: 100%|██████████| 62/62 [03:16<00:00,  3.17s/batch]\n"
          ]
        },
        {
          "name": "stdout",
          "output_type": "stream",
          "text": [
            "Epoch [3/20] - Loss: 1.0179\n"
          ]
        },
        {
          "name": "stderr",
          "output_type": "stream",
          "text": [
            "Validating Epoch 3/20: 100%|██████████| 62/62 [01:32<00:00,  1.50s/batch]"
          ]
        },
        {
          "name": "stdout",
          "output_type": "stream",
          "text": [
            "Epoch [3/20] - Validation mIoU: 0.1114\n",
            "Epoch [3/20] - Per-Class IoU: {'Background': 0.1762446016073227, 'Building': 0.1841626614332199, 'Road': 0.15660731494426727, 'Water': 0.10687926411628723, 'Barren': 0.048427317291498184, 'Forest': 0.07541562616825104, 'Agricultural': 0.032116543501615524}\n"
          ]
        },
        {
          "name": "stderr",
          "output_type": "stream",
          "text": [
            "\n"
          ]
        },
        {
          "data": {
            "application/javascript": "window.scrollTo(0, document.body.scrollHeight);",
            "text/plain": [
              "<IPython.core.display.Javascript object>"
            ]
          },
          "metadata": {},
          "output_type": "display_data"
        },
        {
          "name": "stderr",
          "output_type": "stream",
          "text": [
            "Epoch 4/20: 100%|██████████| 62/62 [03:00<00:00,  2.92s/batch]\n"
          ]
        },
        {
          "name": "stdout",
          "output_type": "stream",
          "text": [
            "Epoch [4/20] - Loss: 0.8641\n"
          ]
        },
        {
          "name": "stderr",
          "output_type": "stream",
          "text": [
            "Validating Epoch 4/20: 100%|██████████| 62/62 [01:46<00:00,  1.71s/batch]\n"
          ]
        },
        {
          "name": "stdout",
          "output_type": "stream",
          "text": [
            "Epoch [4/20] - Validation mIoU: 0.1693\n",
            "Epoch [4/20] - Per-Class IoU: {'Background': 0.22334522008895874, 'Building': 0.2598634958267212, 'Road': 0.14048148691654205, 'Water': 0.3107229769229889, 'Barren': 0.09015609323978424, 'Forest': 0.08612897992134094, 'Agricultural': 0.0740785002708435}\n"
          ]
        },
        {
          "data": {
            "application/javascript": "window.scrollTo(0, document.body.scrollHeight);",
            "text/plain": [
              "<IPython.core.display.Javascript object>"
            ]
          },
          "metadata": {},
          "output_type": "display_data"
        },
        {
          "name": "stderr",
          "output_type": "stream",
          "text": [
            "Epoch 5/20: 100%|██████████| 62/62 [02:56<00:00,  2.85s/batch]\n"
          ]
        },
        {
          "name": "stdout",
          "output_type": "stream",
          "text": [
            "Epoch [5/20] - Loss: 0.9686\n"
          ]
        },
        {
          "name": "stderr",
          "output_type": "stream",
          "text": [
            "Validating Epoch 5/20: 100%|██████████| 62/62 [01:35<00:00,  1.54s/batch]"
          ]
        },
        {
          "name": "stdout",
          "output_type": "stream",
          "text": [
            "Epoch [5/20] - Validation mIoU: 0.1566\n",
            "Epoch [5/20] - Per-Class IoU: {'Background': 0.16920997202396393, 'Building': 0.22194531559944153, 'Road': 0.23065771162509918, 'Water': 0.26724135875701904, 'Barren': 0.07261048257350922, 'Forest': 0.1007208377122879, 'Agricultural': 0.03358832374215126}\n"
          ]
        },
        {
          "name": "stderr",
          "output_type": "stream",
          "text": [
            "\n"
          ]
        },
        {
          "data": {
            "application/javascript": "window.scrollTo(0, document.body.scrollHeight);",
            "text/plain": [
              "<IPython.core.display.Javascript object>"
            ]
          },
          "metadata": {},
          "output_type": "display_data"
        },
        {
          "name": "stderr",
          "output_type": "stream",
          "text": [
            "Epoch 6/20: 100%|██████████| 62/62 [03:03<00:00,  2.96s/batch]\n"
          ]
        },
        {
          "name": "stdout",
          "output_type": "stream",
          "text": [
            "Epoch [6/20] - Loss: 1.0234\n"
          ]
        },
        {
          "name": "stderr",
          "output_type": "stream",
          "text": [
            "Validating Epoch 6/20: 100%|██████████| 62/62 [01:26<00:00,  1.40s/batch]\n"
          ]
        },
        {
          "name": "stdout",
          "output_type": "stream",
          "text": [
            "Epoch [6/20] - Validation mIoU: 0.2118\n",
            "Epoch [6/20] - Per-Class IoU: {'Background': 0.15069344639778137, 'Building': 0.37559545040130615, 'Road': 0.25217196345329285, 'Water': 0.17669489979743958, 'Barren': 0.1628497838973999, 'Forest': 0.050125602632761, 'Agricultural': 0.3141787648200989}\n"
          ]
        },
        {
          "data": {
            "application/javascript": "window.scrollTo(0, document.body.scrollHeight);",
            "text/plain": [
              "<IPython.core.display.Javascript object>"
            ]
          },
          "metadata": {},
          "output_type": "display_data"
        },
        {
          "name": "stderr",
          "output_type": "stream",
          "text": [
            "Epoch 7/20: 100%|██████████| 62/62 [03:02<00:00,  2.95s/batch]\n"
          ]
        },
        {
          "name": "stdout",
          "output_type": "stream",
          "text": [
            "Epoch [7/20] - Loss: 1.0082\n"
          ]
        },
        {
          "name": "stderr",
          "output_type": "stream",
          "text": [
            "Validating Epoch 7/20: 100%|██████████| 62/62 [01:36<00:00,  1.56s/batch]"
          ]
        },
        {
          "name": "stdout",
          "output_type": "stream",
          "text": [
            "Epoch [7/20] - Validation mIoU: 0.2001\n",
            "Epoch [7/20] - Per-Class IoU: {'Background': 0.09374791383743286, 'Building': 0.3580481708049774, 'Road': 0.25182607769966125, 'Water': 0.15230309963226318, 'Barren': 0.03870607912540436, 'Forest': 0.06027138978242874, 'Agricultural': 0.4454970955848694}\n"
          ]
        },
        {
          "name": "stderr",
          "output_type": "stream",
          "text": [
            "\n"
          ]
        },
        {
          "data": {
            "application/javascript": "window.scrollTo(0, document.body.scrollHeight);",
            "text/plain": [
              "<IPython.core.display.Javascript object>"
            ]
          },
          "metadata": {},
          "output_type": "display_data"
        },
        {
          "name": "stderr",
          "output_type": "stream",
          "text": [
            "Epoch 8/20: 100%|██████████| 62/62 [03:04<00:00,  2.98s/batch]\n"
          ]
        },
        {
          "name": "stdout",
          "output_type": "stream",
          "text": [
            "Epoch [8/20] - Loss: 0.8920\n"
          ]
        },
        {
          "name": "stderr",
          "output_type": "stream",
          "text": [
            "Validating Epoch 8/20: 100%|██████████| 62/62 [01:32<00:00,  1.49s/batch]"
          ]
        },
        {
          "name": "stdout",
          "output_type": "stream",
          "text": [
            "Epoch [8/20] - Validation mIoU: 0.1898\n",
            "Epoch [8/20] - Per-Class IoU: {'Background': 0.11282793432474136, 'Building': 0.2392052263021469, 'Road': 0.2757188081741333, 'Water': 0.14635933935642242, 'Barren': 0.08094893395900726, 'Forest': 0.05149133875966072, 'Agricultural': 0.4221343994140625}\n"
          ]
        },
        {
          "name": "stderr",
          "output_type": "stream",
          "text": [
            "\n"
          ]
        },
        {
          "data": {
            "application/javascript": "window.scrollTo(0, document.body.scrollHeight);",
            "text/plain": [
              "<IPython.core.display.Javascript object>"
            ]
          },
          "metadata": {},
          "output_type": "display_data"
        },
        {
          "name": "stderr",
          "output_type": "stream",
          "text": [
            "Epoch 9/20: 100%|██████████| 62/62 [02:56<00:00,  2.85s/batch]\n"
          ]
        },
        {
          "name": "stdout",
          "output_type": "stream",
          "text": [
            "Epoch [9/20] - Loss: 1.1093\n"
          ]
        },
        {
          "name": "stderr",
          "output_type": "stream",
          "text": [
            "Validating Epoch 9/20: 100%|██████████| 62/62 [01:34<00:00,  1.52s/batch]"
          ]
        },
        {
          "name": "stdout",
          "output_type": "stream",
          "text": [
            "Epoch [9/20] - Validation mIoU: 0.1903\n",
            "Epoch [9/20] - Per-Class IoU: {'Background': 0.09713830053806305, 'Building': 0.2091064304113388, 'Road': 0.29408013820648193, 'Water': 0.15205985307693481, 'Barren': 0.07114288210868835, 'Forest': 0.06887703388929367, 'Agricultural': 0.4395368993282318}\n"
          ]
        },
        {
          "name": "stderr",
          "output_type": "stream",
          "text": [
            "\n"
          ]
        },
        {
          "data": {
            "application/javascript": "window.scrollTo(0, document.body.scrollHeight);",
            "text/plain": [
              "<IPython.core.display.Javascript object>"
            ]
          },
          "metadata": {},
          "output_type": "display_data"
        },
        {
          "name": "stderr",
          "output_type": "stream",
          "text": [
            "Epoch 10/20: 100%|██████████| 62/62 [03:02<00:00,  2.94s/batch]\n"
          ]
        },
        {
          "name": "stdout",
          "output_type": "stream",
          "text": [
            "Epoch [10/20] - Loss: 0.8819\n"
          ]
        },
        {
          "name": "stderr",
          "output_type": "stream",
          "text": [
            "Validating Epoch 10/20: 100%|██████████| 62/62 [01:25<00:00,  1.37s/batch]"
          ]
        },
        {
          "name": "stdout",
          "output_type": "stream",
          "text": [
            "Epoch [10/20] - Validation mIoU: 0.1911\n",
            "Epoch [10/20] - Per-Class IoU: {'Background': 0.10100667923688889, 'Building': 0.18107210099697113, 'Road': 0.3035527765750885, 'Water': 0.14626510441303253, 'Barren': 0.09409492462873459, 'Forest': 0.057926058769226074, 'Agricultural': 0.4538177251815796}\n"
          ]
        },
        {
          "name": "stderr",
          "output_type": "stream",
          "text": [
            "\n"
          ]
        },
        {
          "data": {
            "application/javascript": "window.scrollTo(0, document.body.scrollHeight);",
            "text/plain": [
              "<IPython.core.display.Javascript object>"
            ]
          },
          "metadata": {},
          "output_type": "display_data"
        },
        {
          "name": "stderr",
          "output_type": "stream",
          "text": [
            "Epoch 11/20: 100%|██████████| 62/62 [03:08<00:00,  3.05s/batch]\n"
          ]
        },
        {
          "name": "stdout",
          "output_type": "stream",
          "text": [
            "Epoch [11/20] - Loss: 0.9032\n"
          ]
        },
        {
          "name": "stderr",
          "output_type": "stream",
          "text": [
            "Validating Epoch 11/20: 100%|██████████| 62/62 [01:39<00:00,  1.60s/batch]"
          ]
        },
        {
          "name": "stdout",
          "output_type": "stream",
          "text": [
            "Epoch [11/20] - Validation mIoU: 0.1906\n",
            "Epoch [11/20] - Per-Class IoU: {'Background': 0.10333092510700226, 'Building': 0.26157987117767334, 'Road': 0.29723313450813293, 'Water': 0.1433268040418625, 'Barren': 0.030766699463129044, 'Forest': 0.0539289228618145, 'Agricultural': 0.4443204700946808}\n"
          ]
        },
        {
          "name": "stderr",
          "output_type": "stream",
          "text": [
            "\n"
          ]
        },
        {
          "data": {
            "application/javascript": "window.scrollTo(0, document.body.scrollHeight);",
            "text/plain": [
              "<IPython.core.display.Javascript object>"
            ]
          },
          "metadata": {},
          "output_type": "display_data"
        },
        {
          "name": "stderr",
          "output_type": "stream",
          "text": [
            "Epoch 12/20: 100%|██████████| 62/62 [02:58<00:00,  2.87s/batch]\n"
          ]
        },
        {
          "name": "stdout",
          "output_type": "stream",
          "text": [
            "Epoch [12/20] - Loss: 0.7800\n"
          ]
        },
        {
          "name": "stderr",
          "output_type": "stream",
          "text": [
            "Validating Epoch 12/20: 100%|██████████| 62/62 [01:28<00:00,  1.42s/batch]"
          ]
        },
        {
          "name": "stdout",
          "output_type": "stream",
          "text": [
            "Epoch [12/20] - Validation mIoU: 0.1868\n",
            "Epoch [12/20] - Per-Class IoU: {'Background': 0.10167750716209412, 'Building': 0.24322301149368286, 'Road': 0.2766386866569519, 'Water': 0.1471717804670334, 'Barren': 0.08071281760931015, 'Forest': 0.03614989295601845, 'Agricultural': 0.42229941487312317}\n"
          ]
        },
        {
          "name": "stderr",
          "output_type": "stream",
          "text": [
            "\n"
          ]
        },
        {
          "data": {
            "application/javascript": "window.scrollTo(0, document.body.scrollHeight);",
            "text/plain": [
              "<IPython.core.display.Javascript object>"
            ]
          },
          "metadata": {},
          "output_type": "display_data"
        },
        {
          "name": "stderr",
          "output_type": "stream",
          "text": [
            "Epoch 13/20: 100%|██████████| 62/62 [02:58<00:00,  2.88s/batch]\n"
          ]
        },
        {
          "name": "stdout",
          "output_type": "stream",
          "text": [
            "Epoch [13/20] - Loss: 0.7953\n"
          ]
        },
        {
          "name": "stderr",
          "output_type": "stream",
          "text": [
            "Validating Epoch 13/20: 100%|██████████| 62/62 [01:25<00:00,  1.38s/batch]"
          ]
        },
        {
          "name": "stdout",
          "output_type": "stream",
          "text": [
            "Epoch [13/20] - Validation mIoU: 0.2016\n",
            "Epoch [13/20] - Per-Class IoU: {'Background': 0.09295104444026947, 'Building': 0.24556291103363037, 'Road': 0.2990742325782776, 'Water': 0.15175507962703705, 'Barren': 0.0962996706366539, 'Forest': 0.05981189385056496, 'Agricultural': 0.4655885696411133}\n"
          ]
        },
        {
          "name": "stderr",
          "output_type": "stream",
          "text": [
            "\n"
          ]
        },
        {
          "data": {
            "application/javascript": "window.scrollTo(0, document.body.scrollHeight);",
            "text/plain": [
              "<IPython.core.display.Javascript object>"
            ]
          },
          "metadata": {},
          "output_type": "display_data"
        },
        {
          "name": "stderr",
          "output_type": "stream",
          "text": [
            "Epoch 14/20: 100%|██████████| 62/62 [02:56<00:00,  2.85s/batch]\n"
          ]
        },
        {
          "name": "stdout",
          "output_type": "stream",
          "text": [
            "Epoch [14/20] - Loss: 0.9140\n"
          ]
        },
        {
          "name": "stderr",
          "output_type": "stream",
          "text": [
            "Validating Epoch 14/20: 100%|██████████| 62/62 [01:27<00:00,  1.42s/batch]"
          ]
        },
        {
          "name": "stdout",
          "output_type": "stream",
          "text": [
            "Epoch [14/20] - Validation mIoU: 0.1899\n",
            "Epoch [14/20] - Per-Class IoU: {'Background': 0.10241267085075378, 'Building': 0.21602506935596466, 'Road': 0.3057030737400055, 'Water': 0.1495392620563507, 'Barren': 0.06164999306201935, 'Forest': 0.04021638259291649, 'Agricultural': 0.4538651704788208}\n"
          ]
        },
        {
          "name": "stderr",
          "output_type": "stream",
          "text": [
            "\n"
          ]
        },
        {
          "data": {
            "application/javascript": "window.scrollTo(0, document.body.scrollHeight);",
            "text/plain": [
              "<IPython.core.display.Javascript object>"
            ]
          },
          "metadata": {},
          "output_type": "display_data"
        },
        {
          "name": "stderr",
          "output_type": "stream",
          "text": [
            "Epoch 15/20: 100%|██████████| 62/62 [02:56<00:00,  2.85s/batch]\n"
          ]
        },
        {
          "name": "stdout",
          "output_type": "stream",
          "text": [
            "Epoch [15/20] - Loss: 0.7745\n"
          ]
        },
        {
          "name": "stderr",
          "output_type": "stream",
          "text": [
            "Validating Epoch 15/20: 100%|██████████| 62/62 [01:24<00:00,  1.36s/batch]"
          ]
        },
        {
          "name": "stdout",
          "output_type": "stream",
          "text": [
            "Epoch [15/20] - Validation mIoU: 0.1963\n",
            "Epoch [15/20] - Per-Class IoU: {'Background': 0.09633307158946991, 'Building': 0.20762817561626434, 'Road': 0.2871004343032837, 'Water': 0.14500223100185394, 'Barren': 0.15759529173374176, 'Forest': 0.049938250333070755, 'Agricultural': 0.4307713806629181}\n"
          ]
        },
        {
          "name": "stderr",
          "output_type": "stream",
          "text": [
            "\n"
          ]
        },
        {
          "data": {
            "application/javascript": "window.scrollTo(0, document.body.scrollHeight);",
            "text/plain": [
              "<IPython.core.display.Javascript object>"
            ]
          },
          "metadata": {},
          "output_type": "display_data"
        },
        {
          "name": "stderr",
          "output_type": "stream",
          "text": [
            "Epoch 16/20: 100%|██████████| 62/62 [02:53<00:00,  2.80s/batch]\n"
          ]
        },
        {
          "name": "stdout",
          "output_type": "stream",
          "text": [
            "Epoch [16/20] - Loss: 0.8448\n"
          ]
        },
        {
          "name": "stderr",
          "output_type": "stream",
          "text": [
            "Validating Epoch 16/20: 100%|██████████| 62/62 [01:28<00:00,  1.43s/batch]"
          ]
        },
        {
          "name": "stdout",
          "output_type": "stream",
          "text": [
            "Epoch [16/20] - Validation mIoU: 0.1824\n",
            "Epoch [16/20] - Per-Class IoU: {'Background': 0.0961044430732727, 'Building': 0.18780964612960815, 'Road': 0.2975938022136688, 'Water': 0.1514367014169693, 'Barren': 0.043327100574970245, 'Forest': 0.038887377828359604, 'Agricultural': 0.4614427387714386}\n"
          ]
        },
        {
          "name": "stderr",
          "output_type": "stream",
          "text": [
            "\n"
          ]
        },
        {
          "data": {
            "application/javascript": "window.scrollTo(0, document.body.scrollHeight);",
            "text/plain": [
              "<IPython.core.display.Javascript object>"
            ]
          },
          "metadata": {},
          "output_type": "display_data"
        },
        {
          "name": "stderr",
          "output_type": "stream",
          "text": [
            "Epoch 17/20: 100%|██████████| 62/62 [02:58<00:00,  2.87s/batch]\n"
          ]
        },
        {
          "name": "stdout",
          "output_type": "stream",
          "text": [
            "Epoch [17/20] - Loss: 0.8166\n"
          ]
        },
        {
          "name": "stderr",
          "output_type": "stream",
          "text": [
            "Validating Epoch 17/20: 100%|██████████| 62/62 [01:24<00:00,  1.37s/batch]"
          ]
        },
        {
          "name": "stdout",
          "output_type": "stream",
          "text": [
            "Epoch [17/20] - Validation mIoU: 0.1795\n",
            "Epoch [17/20] - Per-Class IoU: {'Background': 0.10105913877487183, 'Building': 0.1585806906223297, 'Road': 0.297899067401886, 'Water': 0.15273447334766388, 'Barren': 0.04240155965089798, 'Forest': 0.04029504954814911, 'Agricultural': 0.4634140431880951}\n"
          ]
        },
        {
          "name": "stderr",
          "output_type": "stream",
          "text": [
            "\n"
          ]
        },
        {
          "data": {
            "application/javascript": "window.scrollTo(0, document.body.scrollHeight);",
            "text/plain": [
              "<IPython.core.display.Javascript object>"
            ]
          },
          "metadata": {},
          "output_type": "display_data"
        },
        {
          "name": "stderr",
          "output_type": "stream",
          "text": [
            "Epoch 18/20: 100%|██████████| 62/62 [02:54<00:00,  2.82s/batch]\n"
          ]
        },
        {
          "name": "stdout",
          "output_type": "stream",
          "text": [
            "Epoch [18/20] - Loss: 0.8213\n"
          ]
        },
        {
          "name": "stderr",
          "output_type": "stream",
          "text": [
            "Validating Epoch 18/20: 100%|██████████| 62/62 [01:24<00:00,  1.37s/batch]"
          ]
        },
        {
          "name": "stdout",
          "output_type": "stream",
          "text": [
            "Epoch [18/20] - Validation mIoU: 0.1955\n",
            "Epoch [18/20] - Per-Class IoU: {'Background': 0.08828619122505188, 'Building': 0.24394755065441132, 'Road': 0.29021769762039185, 'Water': 0.1508256196975708, 'Barren': 0.09118776768445969, 'Forest': 0.04541005566716194, 'Agricultural': 0.4585026800632477}\n"
          ]
        },
        {
          "name": "stderr",
          "output_type": "stream",
          "text": [
            "\n"
          ]
        },
        {
          "data": {
            "application/javascript": "window.scrollTo(0, document.body.scrollHeight);",
            "text/plain": [
              "<IPython.core.display.Javascript object>"
            ]
          },
          "metadata": {},
          "output_type": "display_data"
        },
        {
          "name": "stderr",
          "output_type": "stream",
          "text": [
            "Epoch 19/20: 100%|██████████| 62/62 [02:53<00:00,  2.80s/batch]\n"
          ]
        },
        {
          "name": "stdout",
          "output_type": "stream",
          "text": [
            "Epoch [19/20] - Loss: 0.8503\n"
          ]
        },
        {
          "name": "stderr",
          "output_type": "stream",
          "text": [
            "Validating Epoch 19/20: 100%|██████████| 62/62 [01:27<00:00,  1.41s/batch]"
          ]
        },
        {
          "name": "stdout",
          "output_type": "stream",
          "text": [
            "Epoch [19/20] - Validation mIoU: 0.1984\n",
            "Epoch [19/20] - Per-Class IoU: {'Background': 0.08598676323890686, 'Building': 0.2820238471031189, 'Road': 0.30832475423812866, 'Water': 0.1526401787996292, 'Barren': 0.05622429773211479, 'Forest': 0.04082004725933075, 'Agricultural': 0.46265265345573425}\n"
          ]
        },
        {
          "name": "stderr",
          "output_type": "stream",
          "text": [
            "\n"
          ]
        },
        {
          "data": {
            "application/javascript": "window.scrollTo(0, document.body.scrollHeight);",
            "text/plain": [
              "<IPython.core.display.Javascript object>"
            ]
          },
          "metadata": {},
          "output_type": "display_data"
        },
        {
          "name": "stderr",
          "output_type": "stream",
          "text": [
            "Epoch 20/20: 100%|██████████| 62/62 [02:51<00:00,  2.76s/batch]\n"
          ]
        },
        {
          "name": "stdout",
          "output_type": "stream",
          "text": [
            "Epoch [20/20] - Loss: 0.8774\n"
          ]
        },
        {
          "name": "stderr",
          "output_type": "stream",
          "text": [
            "Validating Epoch 20/20: 100%|██████████| 62/62 [01:28<00:00,  1.42s/batch]"
          ]
        },
        {
          "name": "stdout",
          "output_type": "stream",
          "text": [
            "Epoch [20/20] - Validation mIoU: 0.2017\n",
            "Epoch [20/20] - Per-Class IoU: {'Background': 0.08504202216863632, 'Building': 0.20878183841705322, 'Road': 0.30691778659820557, 'Water': 0.15416951477527618, 'Barren': 0.1525869220495224, 'Forest': 0.047152865678071976, 'Agricultural': 0.45738524198532104}\n",
            "Best Validation mIoU: 0.2118\n"
          ]
        },
        {
          "name": "stderr",
          "output_type": "stream",
          "text": [
            "\n"
          ]
        }
      ],
      "source": [
        "import torch\n",
        "import torch.nn as nn\n",
        "import torch.optim as optim\n",
        "from torch.utils.data import Dataset, DataLoader, Subset\n",
        "import torchvision.transforms as T\n",
        "from PIL import Image\n",
        "import os\n",
        "import numpy as np\n",
        "import random\n",
        "from sklearn.metrics import mean_squared_error\n",
        "\n",
        "import random\n",
        "import torch\n",
        "import torch.nn.functional as F\n",
        "from utils.criterion import OhemCrossEntropy\n",
        "import gc\n",
        "\n",
        "\n",
        "\n",
        "num_classes=7\n",
        "# Define mIoU metric\n",
        "jaccard = JaccardIndex(task=\"multiclass\", num_classes=7).to('cuda')  # intersection over union. Directly measures the overlap between predicted segmentation and ground truth.\n",
        "\n",
        "# DACS implementation (adapting from the pseudocode)\n",
        "class DACSModel(nn.Module):\n",
        "    def __init__(self, num_classes):\n",
        "        super(DACSModel, self).__init__()\n",
        "        self.model = get_seg_model(name='pidnet_s', num_classes=7, imgnet_pretrained=True, model_pth='PIDNet_S_ImageNet.pth.tar').to(device)\n",
        "\n",
        "    def forward(self, x):\n",
        "        return self.model(x)\n",
        "\n",
        "def dacs_loss(pred_source, label_source, pred_mixed, label_mixed, lambda_param): #from the paper.\n",
        "    # Cross-entropy loss for source domain and mixed domain\n",
        "    criterion = OhemCrossEntropy() #avoid considering the first class (background), so it will prevent the model from learning to predict background pixels when they're not important for training.\n",
        "\n",
        "    #print(\"pred_source.shape: \", pred_source.shape)\n",
        "    #print(\"label_source.shape: \", label_source.shape)\n",
        "    #print(\"pred_mixed.shape: \", pred_mixed.shape)\n",
        "    #print(\"label_mixed.shape: \", label_mixed.shape)\n",
        "\n",
        "    # Calculate loss for both source and mixed data\n",
        "    loss_source = criterion(pred_source, label_source)\n",
        "    #print(\"loss_source: \", loss_source)\n",
        "    loss_mixed = criterion(pred_mixed, label_mixed)\n",
        "    #print(\"loss_mixed: \", loss_mixed)\n",
        "\n",
        "    return loss_source + lambda_param * loss_mixed\n",
        "\n",
        "\n",
        "def adjust_mask(binary_mask, source_labels, target_proportion=0.2):\n",
        "    \"\"\"\n",
        "    Regola la maschera in modo da ridurre la quantità di pixel source\n",
        "    quando la proporzione è troppo alta, e bilancia la proporzione tra source e target.\n",
        "\n",
        "    Args:\n",
        "    - binary_mask (Tensor): la maschera binaria che indica quali pixel provengono dalla source image.\n",
        "    - source_labels (Tensor): le etichette della source image.\n",
        "    - target_proportion (float): la proporzione di target che vogliamo ottenere dopo l'aggiornamento.\n",
        "\n",
        "    Returns:\n",
        "    - binary_mask (Tensor): la maschera aggiornata.\n",
        "    \"\"\"\n",
        "    # Calcoliamo la proporzione attuale della source image\n",
        "    proportion_source = binary_mask.float().mean().item()\n",
        "\n",
        "    print(f\"Proporzione source prima dell'aggiustamento: {proportion_source:.2f}\")\n",
        "\n",
        "    if proportion_source == 1.0:\n",
        "        # Se tutti i pixel sono source, vogliamo ridurre la quantità di pixel source\n",
        "        # Se la proporzione source è 1, significa che tutti i pixel sono della source image.\n",
        "        # Abbiamo bisogno di \"trasformare\" alcuni di questi pixel in target per bilanciare la proporzione.\n",
        "\n",
        "        # Determina quanti pixel devono essere cambiati per raggiungere la proporzione target desiderata\n",
        "        target_pixels_needed = int(binary_mask.numel() * target_proportion)\n",
        "\n",
        "        # Troviamo gli indici dei pixel source (True) nella maschera\n",
        "        source_pixel_indices = binary_mask.nonzero(as_tuple=True)[0]\n",
        "\n",
        "        # Calcoliamo quanti pixel dobbiamo convertire in target (False)\n",
        "        num_to_convert = source_pixel_indices.size(0) - target_pixels_needed\n",
        "\n",
        "        if num_to_convert > 0:\n",
        "            # Scegliamo casualmente i pixel da modificare da source a target\n",
        "            indices_to_convert = source_pixel_indices[:num_to_convert]\n",
        "\n",
        "            # Impostiamo questi pixel su False (target)\n",
        "            binary_mask[indices_to_convert] = False\n",
        "        else:\n",
        "            print(\"Non è necessario modificare la maschera, la proporzione è già adatta.\")\n",
        "\n",
        "    # Dopo l'aggiornamento, la proporzione di source dovrebbe essere bilanciata\n",
        "    proportion_source = binary_mask.float().mean().item()\n",
        "    print(f\"Proporzione source dopo l'aggiustamento: {proportion_source:.2f}\")\n",
        "\n",
        "    return binary_mask\n",
        "\n",
        "def classmix(source_images, source_labels, target_images, target_labels, num_classes=7):\n",
        "    \"\"\"\n",
        "    Perform classmix image augmentation, mixing source domain image and target domain image pixels based on class masks.\n",
        "    \"\"\"\n",
        "    batch_size, _, height, width = source_images.size()\n",
        "    #print(\"sourceLabels\",source_labels)\n",
        "\n",
        "    # Ensure source_labels is an integer type\n",
        "    source_labels = source_labels.long()\n",
        "\n",
        "    # Generate a random binary mask for each class\n",
        "    class_masks = torch.zeros((batch_size, height, width), device=source_images.device, dtype=torch.bool)\n",
        "    #print(class_masks)\n",
        "    #print(class_masks.shape) #torch.Size([2, 512, 512])\n",
        "    #print(source_labels.shape) #torch.Size([2, 7, 512, 512])\n",
        "    #source_labels = torch.argmax(source_labels, dim=1)  # Convert to class indices (batch_size, height, width)\n",
        "\n",
        "    for b in range(batch_size):\n",
        "        best_proportion_source = 0.0  # To store the best proportion found\n",
        "        best_class_mask = torch.zeros((height, width), device=source_images.device, dtype=torch.bool)  # Best mask found\n",
        "        count = 0  # Initialize the count for while loop iterations\n",
        "        proportion_source=0.0\n",
        "\n",
        "\n",
        "        # Keep regenerating the mask until the proportion is within the desired range or count reaches 10\n",
        "        while (proportion_source < 0.1 or proportion_source > 0.9) and count < 10:\n",
        "            # Randomly select half of the classes for each image in the batch\n",
        "            selected_classes = torch.randperm(num_classes)[:num_classes // 2]\n",
        "            #print(\"selected_classes: \", selected_classes)\n",
        "\n",
        "            # Reset the mask for this batch\n",
        "            class_masks[b] = torch.zeros((height, width), device=source_images.device, dtype=torch.bool)\n",
        "\n",
        "            for cls in selected_classes:\n",
        "                class_masks[b] = class_masks[b] | (source_labels[b] == cls)\n",
        "\n",
        "            # Calculate the proportion of source pixels in the mask\n",
        "            proportion_source = class_masks[b].float().mean()\n",
        "            #print(\"proportion_source:\", proportion_source)\n",
        "\n",
        "            # If this proportion is the best so far, store the mask and proportion\n",
        "            if proportion_source > best_proportion_source:\n",
        "                best_proportion_source = proportion_source\n",
        "                best_class_mask = class_masks[b].clone()  # Store the best mask\n",
        "\n",
        "            # Increment the count\n",
        "            count += 1\n",
        "\n",
        "            # If the count reaches 10, exit the loop\n",
        "            if count >= 10:\n",
        "                #print(f\"Maximum iterations reached for batch {b}. Proportion did not satisfy the condition.\")\n",
        "                break\n",
        "\n",
        "        # After the loop, use the best mask found\n",
        "        #print(f\"Best proportion_source for batch {b}: {best_proportion_source}\")\n",
        "        class_mask_rgb = best_class_mask.unsqueeze(0).repeat(3, 1, 1).float() * 255  # Convert to RGB\n",
        "        #show_image(class_mask_rgb) #print the mask\n",
        "\n",
        "        # Update the class mask for this batch\n",
        "        class_masks[b] = best_class_mask\n",
        "\n",
        "    # Expand the mask to match the channel dimension for images\n",
        "    class_masks_expanded = class_masks.unsqueeze(1).expand(-1, source_images.size(1), -1, -1)\n",
        "\n",
        "\n",
        "    # Mix images using the masks\n",
        "    mixed_images = torch.where(class_masks_expanded, source_images, target_images)\n",
        "\n",
        "    # Mix labels using the same masks\n",
        "    mixed_labels = torch.where(class_masks, source_labels, target_labels)\n",
        "\n",
        "\n",
        "    return mixed_images, mixed_labels\n",
        "\n",
        "\n",
        "def calculate_miou(predictions, labels, num_classes=7):\n",
        "    \"\"\"\n",
        "    Compute Mean Intersection over Union (mIoU) for a given batch of mixed images.\n",
        "    Args:\n",
        "    - predictions (torch.Tensor): Predicted labels for each pixel in the batch (B, H, W)\n",
        "    - labels (torch.Tensor): Ground truth labels for each pixel in the batch (B, H, W)\n",
        "    - num_classes (int): The total number of classes for segmentation\n",
        "    Returns:\n",
        "    - mean_iou (float): The mean Intersection over Union (mIoU) for the batch\n",
        "    \"\"\"\n",
        "    iou_per_class = []\n",
        "\n",
        "    # Loop over each class\n",
        "    for cls in range(num_classes):\n",
        "        # Predicted pixels belonging to the class\n",
        "        pred_class = (predictions == cls)\n",
        "        # Ground truth pixels belonging to the class\n",
        "        true_class = (labels == cls)\n",
        "\n",
        "        # Intersection (True Positive)\n",
        "        intersection = torch.sum(pred_class & true_class).float()\n",
        "        # Union (True Positive + False Positive + False Negative)\n",
        "        union = torch.sum(pred_class | true_class).float()\n",
        "\n",
        "        # IoU for the class\n",
        "        if union != 0:\n",
        "            iou = intersection / union\n",
        "        else:\n",
        "            iou = torch.tensor(0.0)\n",
        "\n",
        "        iou_per_class.append(iou)\n",
        "\n",
        "    # Calculate the mean IoU for the batch\n",
        "    mean_iou = torch.mean(torch.stack(iou_per_class))\n",
        "    return mean_iou\n",
        "\n",
        "\n",
        "\n",
        "def calculate_lambda(predictions, threshold=0.7):\n",
        "    \"\"\"\n",
        "    Calculate the adaptive lambda based on the proportion of confident pixels.\n",
        "\n",
        "    Args:\n",
        "    - predictions (torch.Tensor): Model predictions (logits or probabilities) [batch_size, num_classes, H, W].\n",
        "    - threshold (float): Confidence threshold for determining confident pixels.\n",
        "\n",
        "    Returns:\n",
        "    - lambda_value (float): Adaptive lambda for the current batch.\n",
        "    \"\"\"\n",
        "    # Convert logits to probabilities (if necessary)\n",
        "    #print(\"predictions: \", predictions.shape) #torch.Size([2, 7, 512, 512])\n",
        "    probs = F.softmax(predictions, dim=1)  # [batch_size, num_classes, H, W] #we apply the softmax\n",
        "    #print(\"probs: \", probs.shape) #torch.Size([2, 7, 512, 512])\n",
        "\n",
        "    # Get maximum probabilities for each pixel\n",
        "    max_probs, _ = probs.max(dim=1)  # [batch_size, H, W]\n",
        "\n",
        "    # Create a mask of confident pixels\n",
        "    confident_mask = max_probs > threshold  # [batch_size, H, W]\n",
        "\n",
        "    # Calculate the proportion of confident pixels for each image in the batch\n",
        "    confident_proportions = confident_mask.float().mean(dim=(1, 2))  # [batch_size]\n",
        "\n",
        "    # Average over the batch to get the lambda value\n",
        "    lambda_value = confident_proportions.mean().item()\n",
        "\n",
        "    return lambda_value\n",
        "\n",
        "\n",
        "# DACS training loop\n",
        "def train_dacs_and_validate(model, source_loader, target_loader, num_epochs=20, lambda_param=0.7, lr=1e-4, confidence_threshold=0.7):\n",
        "    optimizer = optim.Adam(model.parameters(), lr=lr)\n",
        "    model.to(device)  # Move model to device (CUDA or CPU)\n",
        "    model.train()\n",
        "    best_miou = 0.0\n",
        "\n",
        "    for epoch in range(num_epochs):\n",
        "        scroll_page()\n",
        "\n",
        "        # Iterate through both source and target datasets for training\n",
        "        train_progress_bar = tqdm(zip(source_loader, target_loader), desc=f\"Epoch {epoch + 1}/{num_epochs}\", unit=\"batch\", total=min(len(source_loader), len(target_loader)))\n",
        "        for batch_idx, (source_data, target_data) in enumerate(train_progress_bar):\n",
        "\n",
        "            source_images, source_labels = source_data\n",
        "            #print(\"source_images: \", source_images.shape)\n",
        "            if source_images.shape[0]==1: # when we run subset\n",
        "              continue\n",
        "            target_images, _ = target_data  # Target labels are not available, will use pseudo-labels\n",
        "\n",
        "            # Move to device\n",
        "            source_images, source_labels = source_images.to(device), source_labels.to(device)\n",
        "            target_images = target_images.to(device)\n",
        "\n",
        "            # 1. Forward pass through the model for the source and target domains\n",
        "            source_preds = model(source_images)\n",
        "            main_output_source= source_preds[1]\n",
        "            #print(\"main_output_source shape : \", main_output_source.shape)\n",
        "            main_output_source = F.interpolate(main_output_source, size=(512,512), mode='bilinear', align_corners=True)\n",
        "            #print(\"main_output_source shape : \", main_output_source.shape) #torch.Size([2, 7, 512, 512])\n",
        "            #print(\"logits\", main_output_source[0, :, 0, 0]) #example: tensor([-3.4636, -3.5338,  2.0996, -0.4825, -0.7998,  1.7863,  2.0860], device='cuda:0', grad_fn=<SelectBackward0>)\n",
        "\n",
        "\n",
        "            # 2. Generate pseudo-label for target domain\n",
        "            target_preds = model(target_images)\n",
        "            main_output_target = target_preds[1]\n",
        "            #print(\"main_output_target shape : \", main_output_target.shape)\n",
        "            main_output_target = F.interpolate(main_output_target, size=(512,512), mode='bilinear', align_corners=True)\n",
        "            #print(\"main_output_target shape : \", main_output_target.shape) #torch.Size([2, 7, 512, 512])\n",
        "\n",
        "            #The goal of pseudo-labeling is to assign a single class label to each pixel based on the highest probability (or logit). The argmax function finds the index of the maximum value along the specified dimension (num_classes). The result tensor is (batch_size, height, width)\n",
        "            pseudo_labels = torch.argmax(main_output_target, dim=1).to(device)\n",
        "            #print(\"pseudo_labels\", pseudo_labels.shape) #torch.Size([2, 512, 512])\n",
        "            #print(\"source labels aaaaaa:\", source_labels) #here each class label is represented as a one-hot vector for each pixel across the image. we want convert the one-hot encoded source_labels into class indices, so each pixel gets assigned the class marked as 1 in the one-hot vector.\n",
        "            #If a pixel in source_labels has a one-hot encoded value like [1, 0, 0, 0], this means that the pixel belongs to class 0 (the first class). ->\n",
        "            source_labels = torch.argmax(source_labels, dim=1).to(device)\n",
        "            #print(\"source_labels\", source_labels.shape) # torch.Size([2, 512, 512])\n",
        "\n",
        "            #3. Calculate adaptive lambda\n",
        "            #lambda_param = calculate_lambda(main_output_target, threshold=confidence_threshold)\n",
        "            #train_progress_bar.set_postfix({'lambda': lambda_param})\n",
        "\n",
        "            # 4. MIX source and target images and labels (DACS augmentation step)\n",
        "            mixed_images, mixed_labels = classmix(source_images, source_labels, target_images, pseudo_labels)\n",
        "            #print(\"mixed_labels \", mixed_labels.shape)\n",
        "            mixed_labels=mixed_labels.to(device)\n",
        "            #print(\"mixed_labels\", mixed_labels.shape)\n",
        "\n",
        "            # Visualization: Save and show one example from the batch\n",
        "            # if (batch_idx == 61):  # Show only for the last batch of each epoch. We can try only for 1 batch in 1 epoch at max, otherwise output is truncated.\n",
        "#                 print(\"AAAAAAAAAAAAAAAAAAAAAAAAAAAAAAAAAAAAAAAAAAAAAA\")\n",
        "#                 print(f\"Visualizing images from batch {batch_idx} at epoch {epoch+1}:\")\n",
        "#                 for i in range(16):\n",
        "#                     print(f\"Source Image {i + 1}:\")\n",
        "#                     show_image(source_images[i])\n",
        "#                     print(f\"Target Image {i + 1}:\")\n",
        "#                     show_image(target_images[i])\n",
        "#                     print(f\"Mixed Image {i + 1}:\")\n",
        "#                     show_image(mixed_images[i])\n",
        "\n",
        "            #aaaaaaaaaa #per far bloccare il codice qui. stampiamo solo le prime 16 immagini nel primo batch. test per classmix\n",
        "\n",
        "            # Step 6: Forward pass\n",
        "            mixed_preds = model(mixed_images)\n",
        "            main_output_mixed = mixed_preds[1]\n",
        "            main_output_mixed = F.interpolate(main_output_mixed, size=(512, 512), mode='bilinear', align_corners=True)\n",
        "\n",
        "            # Calculate the loss\n",
        "            loss = dacs_loss(main_output_source, source_labels, main_output_mixed, mixed_labels, lambda_param)\n",
        "\n",
        "            # Backpropagation\n",
        "            optimizer.zero_grad()\n",
        "            loss.backward()\n",
        "            optimizer.step()\n",
        "\n",
        "        # Print loss and mIoU after each epoch\n",
        "        print(f\"Epoch [{epoch+1}/{num_epochs}] - Loss: {loss.item():.4f}\")\n",
        "\n",
        "        # Clear GPU memory\n",
        "        torch.cuda.empty_cache()\n",
        "\n",
        "        # Validation loop\n",
        "        model.eval()\n",
        "        val_miou = 0.0\n",
        "        val_class_iou = torch.zeros(len(LABEL_MAP)).to('cuda')  # Store IoU per class\n",
        "        val_class_counts = torch.zeros(len(LABEL_MAP)).to('cuda')  # To track number of pixels for each class\n",
        "\n",
        "        val_progress_bar = tqdm(target_loader, desc=f\"Validating Epoch {epoch + 1}/{num_epochs}\", unit=\"batch\", total=len(target_loader))\n",
        "\n",
        "        with torch.no_grad():\n",
        "            for images, masks in val_progress_bar:\n",
        "                images, masks = images.to('cuda'), masks.to('cuda')\n",
        "\n",
        "                # Forward pass\n",
        "                outputs = model(images)  # [batch_size, num_classes, 512, 512] #outputs obtained with model trained on mixed images.\n",
        "                main_output = outputs[1]\n",
        "                main_output = F.interpolate(main_output, size=(512,512), mode='bilinear', align_corners=True)\n",
        "                preds = torch.argmax(main_output, dim=1)  # [batch_size, 512, 512] #select the class with max probability for each pixel\n",
        "\n",
        "                # Convert masks to class indices format if one-hot encoded\n",
        "                if masks.ndim == 4:  # [batch_size, num_classes, height, width]\n",
        "                    masks = masks.argmax(dim=1)  # [batch_size, height, width]\n",
        "\n",
        "                # Calculate per-class IoU\n",
        "                for c, class_name in LABEL_MAP.items():  # Iterate over LABEL_MAP classes\n",
        "                    true_class = (masks == class_name)\n",
        "                    pred_class = (preds == class_name)\n",
        "\n",
        "                    intersection = torch.sum(true_class & pred_class).float()\n",
        "                    union = torch.sum(true_class | pred_class).float()\n",
        "\n",
        "                    if union != 0:\n",
        "                        val_class_iou[class_name] += intersection / union\n",
        "                    val_class_counts[class_name] += 1\n",
        "\n",
        "                # Calculate overall mIoU for this batch\n",
        "                val_miou += jaccard(preds, masks)\n",
        "\n",
        "        # Average metrics\n",
        "        val_miou /= len(target_loader)\n",
        "\n",
        "        # Calculate average IoU for each class\n",
        "        avg_class_iou = val_class_iou / val_class_counts\n",
        "\n",
        "        # Print validation metrics at the end of each epoch\n",
        "        print(f\"Epoch [{epoch+1}/{num_epochs}] - Validation mIoU: {val_miou:.4f}\")\n",
        "        print(f\"Epoch [{epoch+1}/{num_epochs}] - Per-Class IoU: {dict(zip(LABEL_MAP.keys(), avg_class_iou.tolist()))}\")\n",
        "\n",
        "        # Save the best model\n",
        "        if val_miou > best_miou:\n",
        "            best_miou = val_miou\n",
        "            torch.save(model.state_dict(), 'best_pidnet_model.pth')\n",
        "\n",
        "    print(f\"Best Validation mIoU: {best_miou:.4f}\")\n",
        "\n",
        "\n",
        "\n",
        "# Loading datasets\n",
        "source_dataset = LoveDADataset(root_dir='Train/', split='Train', transform_image=transform_image, transform_label=transform_label, subdir='Urban', aug1=AUG1, aug2=AUG2)\n",
        "target_dataset = LoveDADataset(root_dir='Val/', split='Val', transform_image=transform_image, transform_label=transform_label, subdir='Rural')\n",
        "\n",
        "source_loader = DataLoader(source_dataset, batch_size=BATCH_SIZE, shuffle=True, num_workers=NUM_WORKERS, pin_memory=PIN_MEMORY, persistent_workers=PERSISTENT_WORKERS)\n",
        "target_loader = DataLoader(target_dataset, batch_size=BATCH_SIZE, shuffle=False, num_workers=NUM_WORKERS, pin_memory=PIN_MEMORY)\n",
        "\n",
        "\n",
        "# # Define the size of the subset (e.g., 10% of the dataset).\n",
        "# subset_size = 0.3  # 10% of the dataset\n",
        "# source_indices = list(range(len(source_dataset)))\n",
        "# target_indices = list(range(len(target_dataset)))\n",
        "\n",
        "# # Select a subset of indices\n",
        "# source_subset_indices = random.sample(source_indices, int(len(source_indices) * subset_size))\n",
        "# target_subset_indices = random.sample(target_indices, int(len(target_indices) * subset_size))\n",
        "\n",
        "# # Create subset datasets\n",
        "# source_subset = Subset(source_dataset, source_subset_indices)\n",
        "# target_subset = Subset(target_dataset, target_subset_indices)\n",
        "\n",
        "# # Create data loaders for the subset datasets\n",
        "# source_loader = DataLoader(source_subset, batch_size=16, shuffle=True)\n",
        "# target_loader = DataLoader(target_subset, batch_size=16, shuffle=True)\n",
        "\n",
        "\n",
        "# Initialize, train the model and validate\n",
        "model = DACSModel(num_classes=7).to(device)  # Assuming 7 classes\n",
        "train_dacs_and_validate(model, source_loader, target_loader, num_epochs=20)\n",
        "\n",
        "\n"
      ]
    },
    {
      "cell_type": "code",
      "execution_count": 25,
      "metadata": {
        "id": "O9oya4zJFpDt"
      },
      "outputs": [],
      "source": [
        "torch.cuda.reset_max_memory_allocated() #in caso di 'cuda out of memory'\n",
        "torch.cuda.reset_peak_memory_stats()\n",
        "import gc\n",
        "gc.collect() #clear cpu memory\n",
        "import torch\n",
        "torch.cuda.empty_cache() #clear gpu memory #runna più volte\n"
      ]
    },
    {
      "cell_type": "code",
      "execution_count": null,
      "metadata": {
        "id": "vs-hJOV9TGK1"
      },
      "outputs": [],
      "source": [
        "# unsqueeze function in PyTorch is used to add an extra dimension to a tensor.\n",
        "# channels: 3 color channels (RGB)"
      ]
    },
    {
      "cell_type": "markdown",
      "metadata": {
        "id": "wJLWYZ3YWgrO"
      },
      "source": [
        "DACS method:\n",
        "1. ClassMix strategy:\n",
        "Half of the classes from a source domain image are selected, and the corresponding pixels are cut out and pasted onto an image from the target domain.\n",
        "The same mixing procedure is applied to the labels (pseudo-labels for the target domain and ground-truth labels for the source domain).\n",
        "2. Pseudo-labels:\n",
        "The target domain image is passed through the model before mixing to produce pseudo-labels. These labels are then mixed similarly to how the images are mixed.\n",
        "3. Cross-domain Mixing:\n",
        "By combining the two domains at the pixel level, this method attempts to make it harder for the model to learn to discern between the domains. This can mitigate the issue of class distribution differences between source and target domains.\n",
        "\n",
        "Key Steps for Implementation:\n",
        "1. Image Mixing:\n",
        "Select a portion of the source domain image and mix it with the target domain image.\n",
        "2. Label Mixing:\n",
        "Use the ground-truth label from the source domain and pseudo-labels from the target domain and mix them similarly to the images.\n",
        "3. Model Training:\n",
        "Once the mixed images and labels are prepared, the model can be trained using the usual supervised learning approach, where predictions are made and loss is computed using cross-entropy."
      ]
    },
    {
      "cell_type": "markdown",
      "metadata": {
        "id": "vFR854e-56Xe"
      },
      "source": [
        "1. Training Phase:\n",
        "\n",
        "Input: Source images and source labels.\n",
        "\n",
        "Output: Predicted masks and loss between predictions and source labels.\n",
        "\n",
        "Augment with target data (via classmix).\n",
        "\n",
        "Backpropagation and optimization.\n",
        "\n",
        "2. Validation Phase:\n",
        "\n",
        "Input: Target images (no labels for target during training).\n",
        "\n",
        "Output: Predicted masks for the target images.\n",
        "\n",
        "Compute metrics such as mIoU between predicted masks and true target domain masks."
      ]
    }
  ],
  "metadata": {
    "accelerator": "GPU",
    "colab": {
      "gpuType": "T4",
      "provenance": []
    },
    "kernelspec": {
      "display_name": "Python 3",
      "name": "python3"
    },
    "language_info": {
      "name": "python"
    }
  },
  "nbformat": 4,
  "nbformat_minor": 0
}
